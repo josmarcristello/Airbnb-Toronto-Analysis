{
 "cells": [
  {
   "cell_type": "markdown",
   "metadata": {},
   "source": [
    "# 0 - Importando Bibliotecas"
   ]
  },
  {
   "cell_type": "code",
   "execution_count": 1,
   "metadata": {},
   "outputs": [],
   "source": [
    "#!pip3 install nltk\r\n",
    "#!pip3 install wordcloud"
   ]
  },
  {
   "cell_type": "code",
   "execution_count": 2,
   "metadata": {},
   "outputs": [],
   "source": [
    "import pandas as pd \r\n",
    "import seaborn as sns\r\n",
    "import matplotlib.pyplot as plt\r\n",
    "import numpy as np\r\n",
    "\r\n",
    "import re \r\n",
    "import string\r\n",
    "\r\n",
    "import nltk\r\n",
    "from nltk.sentiment.vader import SentimentIntensityAnalyzer\r\n",
    "from sklearn.feature_extraction.text import TfidfVectorizer\r\n",
    "\r\n",
    "from wordcloud import WordCloud, STOPWORDS\r\n",
    "from PIL import Image\r\n",
    "\r\n",
    "import warnings\r\n",
    "warnings.filterwarnings(\"ignore\")\r\n",
    "\r\n",
    "%matplotlib inline"
   ]
  },
  {
   "cell_type": "code",
   "execution_count": 3,
   "metadata": {},
   "outputs": [
    {
     "name": "stderr",
     "output_type": "stream",
     "text": [
      "[nltk_data] Downloading package vader_lexicon to\n",
      "[nltk_data]     C:\\Users\\0\\AppData\\Roaming\\nltk_data...\n",
      "[nltk_data]   Package vader_lexicon is already up-to-date!\n"
     ]
    },
    {
     "data": {
      "text/plain": "True"
     },
     "execution_count": 3,
     "metadata": {},
     "output_type": "execute_result"
    }
   ],
   "source": [
    "#Setting up nltk with vader lexicon\r\n",
    "nltk.download('vader_lexicon')"
   ]
  },
  {
   "cell_type": "markdown",
   "metadata": {},
   "source": [
    "# 1 - Leitura e Importação dos Dados de Entrada"
   ]
  },
  {
   "cell_type": "markdown",
   "metadata": {},
   "source": [
    "## Definindo o PATH dos arquivos"
   ]
  },
  {
   "cell_type": "code",
   "execution_count": 33,
   "metadata": {},
   "outputs": [],
   "source": [
    "# Arquivos obtidos de fontes externas\r\n",
    "file_toronto_listings = \"../2-data/input/Toronto_2021-02-08/listings.csv\"\r\n",
    "\r\n",
    "# Onde salvar os arquivos com dados gerados, para utilização no script principal\r\n",
    "processed_files = '../2-data/generated/'\r\n",
    "\r\n",
    "# Onde vamos salvar as figuras geradas, para utilização no relatório\r\n",
    "final_figures = '../3-report/figures/'"
   ]
  },
  {
   "cell_type": "code",
   "execution_count": 5,
   "metadata": {},
   "outputs": [],
   "source": [
    "df = pd.read_csv(file_toronto_listings, index_col = 'id')"
   ]
  },
  {
   "cell_type": "code",
   "execution_count": 6,
   "metadata": {},
   "outputs": [],
   "source": [
    "## Basic Configs (.ipynb)\r\n",
    "pd.set_option('display.max_rows', 80)\r\n",
    "pd.set_option('display.max_columns', len(df.columns))\r\n",
    "pd.set_option('display.width', 1000)"
   ]
  },
  {
   "cell_type": "markdown",
   "metadata": {},
   "source": [
    "# 2 - Processamento e limpeza dos dados"
   ]
  },
  {
   "cell_type": "code",
   "execution_count": 7,
   "metadata": {},
   "outputs": [
    {
     "name": "stdout",
     "output_type": "stream",
     "text": [
      "565\n"
     ]
    }
   ],
   "source": [
    "print(df['description'].isna().sum())\r\n",
    "#df[\"name\"].isna().sum()\r\n",
    "#df[\"name\"].dropna()"
   ]
  },
  {
   "cell_type": "code",
   "execution_count": 8,
   "metadata": {},
   "outputs": [],
   "source": [
    "# Removendo valores N/A da coluna 'description', visto que esses não poderiam ter seu texto analisado\r\n",
    "\r\n",
    "columnToProcess = 'description'\r\n",
    "df.dropna(subset = [columnToProcess],how='any',axis=0,inplace=True)"
   ]
  },
  {
   "cell_type": "code",
   "execution_count": 9,
   "metadata": {},
   "outputs": [],
   "source": [
    "# As descrições em varios erros de importação e inconsisências que iriam atrapalhar no processamento.\r\n",
    "# Esses vão ser removidos com esses filtros\r\n",
    "\r\n",
    "importingArtifacts = lambda x: x.replace(\"<br />\",\"\").replace(\"<b>\",\"\").replace(\"</b>\",\"\").replace(\"<b\",\"\")\r\n",
    "alphanumeric = lambda x: re.sub('\\w*\\d\\w*', ' ', x)\r\n",
    "punctuation = lambda x: re.sub('[%s]' % re.escape(string.punctuation), ' ', x.lower())"
   ]
  },
  {
   "cell_type": "code",
   "execution_count": 10,
   "metadata": {},
   "outputs": [],
   "source": [
    "df[columnToProcess] = df[columnToProcess].map(importingArtifacts).map(alphanumeric).map(punctuation)"
   ]
  },
  {
   "cell_type": "code",
   "execution_count": 11,
   "metadata": {},
   "outputs": [
    {
     "data": {
      "text/html": "<div>\n<style scoped>\n    .dataframe tbody tr th:only-of-type {\n        vertical-align: middle;\n    }\n\n    .dataframe tbody tr th {\n        vertical-align: top;\n    }\n\n    .dataframe thead th {\n        text-align: right;\n    }\n</style>\n<table border=\"1\" class=\"dataframe\">\n  <thead>\n    <tr style=\"text-align: right;\">\n      <th></th>\n      <th>listing_url</th>\n      <th>scrape_id</th>\n      <th>last_scraped</th>\n      <th>name</th>\n      <th>description</th>\n      <th>neighborhood_overview</th>\n      <th>picture_url</th>\n      <th>host_id</th>\n      <th>host_url</th>\n      <th>host_name</th>\n      <th>host_since</th>\n      <th>host_location</th>\n      <th>host_about</th>\n      <th>host_response_time</th>\n      <th>host_response_rate</th>\n      <th>host_acceptance_rate</th>\n      <th>host_is_superhost</th>\n      <th>host_thumbnail_url</th>\n      <th>host_picture_url</th>\n      <th>host_neighbourhood</th>\n      <th>host_listings_count</th>\n      <th>host_total_listings_count</th>\n      <th>host_verifications</th>\n      <th>host_has_profile_pic</th>\n      <th>host_identity_verified</th>\n      <th>neighbourhood</th>\n      <th>neighbourhood_cleansed</th>\n      <th>neighbourhood_group_cleansed</th>\n      <th>latitude</th>\n      <th>longitude</th>\n      <th>property_type</th>\n      <th>room_type</th>\n      <th>accommodates</th>\n      <th>bathrooms</th>\n      <th>bathrooms_text</th>\n      <th>bedrooms</th>\n      <th>beds</th>\n      <th>amenities</th>\n      <th>price</th>\n      <th>minimum_nights</th>\n      <th>maximum_nights</th>\n      <th>minimum_minimum_nights</th>\n      <th>maximum_minimum_nights</th>\n      <th>minimum_maximum_nights</th>\n      <th>maximum_maximum_nights</th>\n      <th>minimum_nights_avg_ntm</th>\n      <th>maximum_nights_avg_ntm</th>\n      <th>calendar_updated</th>\n      <th>has_availability</th>\n      <th>availability_30</th>\n      <th>availability_60</th>\n      <th>availability_90</th>\n      <th>availability_365</th>\n      <th>calendar_last_scraped</th>\n      <th>number_of_reviews</th>\n      <th>number_of_reviews_ltm</th>\n      <th>number_of_reviews_l30d</th>\n      <th>first_review</th>\n      <th>last_review</th>\n      <th>review_scores_rating</th>\n      <th>review_scores_accuracy</th>\n      <th>review_scores_cleanliness</th>\n      <th>review_scores_checkin</th>\n      <th>review_scores_communication</th>\n      <th>review_scores_location</th>\n      <th>review_scores_value</th>\n      <th>license</th>\n      <th>instant_bookable</th>\n      <th>calculated_host_listings_count</th>\n      <th>calculated_host_listings_count_entire_homes</th>\n      <th>calculated_host_listings_count_private_rooms</th>\n      <th>calculated_host_listings_count_shared_rooms</th>\n      <th>reviews_per_month</th>\n    </tr>\n    <tr>\n      <th>id</th>\n      <th></th>\n      <th></th>\n      <th></th>\n      <th></th>\n      <th></th>\n      <th></th>\n      <th></th>\n      <th></th>\n      <th></th>\n      <th></th>\n      <th></th>\n      <th></th>\n      <th></th>\n      <th></th>\n      <th></th>\n      <th></th>\n      <th></th>\n      <th></th>\n      <th></th>\n      <th></th>\n      <th></th>\n      <th></th>\n      <th></th>\n      <th></th>\n      <th></th>\n      <th></th>\n      <th></th>\n      <th></th>\n      <th></th>\n      <th></th>\n      <th></th>\n      <th></th>\n      <th></th>\n      <th></th>\n      <th></th>\n      <th></th>\n      <th></th>\n      <th></th>\n      <th></th>\n      <th></th>\n      <th></th>\n      <th></th>\n      <th></th>\n      <th></th>\n      <th></th>\n      <th></th>\n      <th></th>\n      <th></th>\n      <th></th>\n      <th></th>\n      <th></th>\n      <th></th>\n      <th></th>\n      <th></th>\n      <th></th>\n      <th></th>\n      <th></th>\n      <th></th>\n      <th></th>\n      <th></th>\n      <th></th>\n      <th></th>\n      <th></th>\n      <th></th>\n      <th></th>\n      <th></th>\n      <th></th>\n      <th></th>\n      <th></th>\n      <th></th>\n      <th></th>\n      <th></th>\n      <th></th>\n    </tr>\n  </thead>\n  <tbody>\n    <tr>\n      <th>1419</th>\n      <td>https://www.airbnb.com/rooms/1419</td>\n      <td>20210208155315</td>\n      <td>2021-02-09</td>\n      <td>Beautiful home in amazing area!</td>\n      <td>this large  family home is located in one of t...</td>\n      <td>The apartment is located in the Ossington stri...</td>\n      <td>https://a0.muscache.com/pictures/76206750/d643...</td>\n      <td>1565</td>\n      <td>https://www.airbnb.com/users/show/1565</td>\n      <td>Alexandra</td>\n      <td>2008-08-08</td>\n      <td>Vancouver, British Columbia, Canada</td>\n      <td>I live in Vancouver, Canada with my husband an...</td>\n      <td>NaN</td>\n      <td>NaN</td>\n      <td>NaN</td>\n      <td>f</td>\n      <td>https://a0.muscache.com/im/pictures/user/7aeea...</td>\n      <td>https://a0.muscache.com/im/pictures/user/7aeea...</td>\n      <td>Commercial Drive</td>\n      <td>1.0</td>\n      <td>1.0</td>\n      <td>['email', 'phone', 'reviews', 'jumio', 'govern...</td>\n      <td>t</td>\n      <td>t</td>\n      <td>Toronto, Ontario, Canada</td>\n      <td>Little Portugal</td>\n      <td>NaN</td>\n      <td>43.64617</td>\n      <td>-79.42451</td>\n      <td>Entire house</td>\n      <td>Entire home/apt</td>\n      <td>10</td>\n      <td>NaN</td>\n      <td>3 baths</td>\n      <td>5.0</td>\n      <td>7.0</td>\n      <td>[\"TV\", \"Washer\", \"Heating\", \"First aid kit\", \"...</td>\n      <td>$469.00</td>\n      <td>28</td>\n      <td>730</td>\n      <td>28</td>\n      <td>28</td>\n      <td>730</td>\n      <td>730</td>\n      <td>28.0</td>\n      <td>730.0</td>\n      <td>NaN</td>\n      <td>t</td>\n      <td>0</td>\n      <td>0</td>\n      <td>0</td>\n      <td>0</td>\n      <td>2021-02-09</td>\n      <td>7</td>\n      <td>0</td>\n      <td>0</td>\n      <td>2015-07-19</td>\n      <td>2017-12-04</td>\n      <td>100.0</td>\n      <td>10.0</td>\n      <td>10.0</td>\n      <td>10.0</td>\n      <td>10.0</td>\n      <td>10.0</td>\n      <td>10.0</td>\n      <td>NaN</td>\n      <td>f</td>\n      <td>1</td>\n      <td>1</td>\n      <td>0</td>\n      <td>0</td>\n      <td>0.10</td>\n    </tr>\n    <tr>\n      <th>8077</th>\n      <td>https://www.airbnb.com/rooms/8077</td>\n      <td>20210208155315</td>\n      <td>2021-02-09</td>\n      <td>Downtown Harbourfront Private Room</td>\n      <td>guest room in a luxury condo with access to al...</td>\n      <td>NaN</td>\n      <td>https://a0.muscache.com/pictures/11780344/141c...</td>\n      <td>22795</td>\n      <td>https://www.airbnb.com/users/show/22795</td>\n      <td>Kathie &amp; Larry</td>\n      <td>2009-06-22</td>\n      <td>Toronto, Ontario, Canada</td>\n      <td>My husband and I have been airbnb host for alm...</td>\n      <td>NaN</td>\n      <td>NaN</td>\n      <td>NaN</td>\n      <td>f</td>\n      <td>https://a0.muscache.com/im/pictures/user/9a077...</td>\n      <td>https://a0.muscache.com/im/pictures/user/9a077...</td>\n      <td>Harbourfront</td>\n      <td>2.0</td>\n      <td>2.0</td>\n      <td>['email', 'phone', 'facebook', 'reviews']</td>\n      <td>t</td>\n      <td>f</td>\n      <td>NaN</td>\n      <td>Waterfront Communities-The Island</td>\n      <td>NaN</td>\n      <td>43.64105</td>\n      <td>-79.37628</td>\n      <td>Private room in apartment</td>\n      <td>Private room</td>\n      <td>2</td>\n      <td>NaN</td>\n      <td>1.5 baths</td>\n      <td>1.0</td>\n      <td>1.0</td>\n      <td>[\"Cable TV\", \"TV\", \"Heating\", \"Elevator\", \"Fre...</td>\n      <td>$96.00</td>\n      <td>180</td>\n      <td>365</td>\n      <td>180</td>\n      <td>180</td>\n      <td>365</td>\n      <td>365</td>\n      <td>180.0</td>\n      <td>365.0</td>\n      <td>NaN</td>\n      <td>t</td>\n      <td>30</td>\n      <td>60</td>\n      <td>90</td>\n      <td>365</td>\n      <td>2021-02-09</td>\n      <td>169</td>\n      <td>0</td>\n      <td>0</td>\n      <td>2009-08-20</td>\n      <td>2013-08-27</td>\n      <td>97.0</td>\n      <td>10.0</td>\n      <td>10.0</td>\n      <td>10.0</td>\n      <td>10.0</td>\n      <td>10.0</td>\n      <td>10.0</td>\n      <td>NaN</td>\n      <td>t</td>\n      <td>2</td>\n      <td>1</td>\n      <td>1</td>\n      <td>0</td>\n      <td>1.21</td>\n    </tr>\n  </tbody>\n</table>\n</div>",
      "text/plain": "                            listing_url       scrape_id last_scraped                                name                                        description                              neighborhood_overview                                        picture_url  host_id                                 host_url       host_name  host_since                        host_location                                         host_about host_response_time host_response_rate host_acceptance_rate host_is_superhost                                 host_thumbnail_url                                   host_picture_url host_neighbourhood  host_listings_count  host_total_listings_count                                 host_verifications host_has_profile_pic host_identity_verified             neighbourhood             neighbourhood_cleansed  neighbourhood_group_cleansed  latitude  longitude              property_type        room_type  accommodates  bathrooms bathrooms_text  bedrooms  beds  \\\nid                                                                                                                                                                                                                                                                                                                                                                                                                                                                                                                                                                                                                                                                                                                                                                                                                                                                                                                                                                                                                 \n1419  https://www.airbnb.com/rooms/1419  20210208155315   2021-02-09     Beautiful home in amazing area!  this large  family home is located in one of t...  The apartment is located in the Ossington stri...  https://a0.muscache.com/pictures/76206750/d643...     1565   https://www.airbnb.com/users/show/1565       Alexandra  2008-08-08  Vancouver, British Columbia, Canada  I live in Vancouver, Canada with my husband an...                NaN                NaN                  NaN                 f  https://a0.muscache.com/im/pictures/user/7aeea...  https://a0.muscache.com/im/pictures/user/7aeea...   Commercial Drive                  1.0                        1.0  ['email', 'phone', 'reviews', 'jumio', 'govern...                    t                      t  Toronto, Ontario, Canada                    Little Portugal                           NaN  43.64617  -79.42451               Entire house  Entire home/apt            10        NaN        3 baths       5.0   7.0   \n8077  https://www.airbnb.com/rooms/8077  20210208155315   2021-02-09  Downtown Harbourfront Private Room  guest room in a luxury condo with access to al...                                                NaN  https://a0.muscache.com/pictures/11780344/141c...    22795  https://www.airbnb.com/users/show/22795  Kathie & Larry  2009-06-22             Toronto, Ontario, Canada  My husband and I have been airbnb host for alm...                NaN                NaN                  NaN                 f  https://a0.muscache.com/im/pictures/user/9a077...  https://a0.muscache.com/im/pictures/user/9a077...       Harbourfront                  2.0                        2.0          ['email', 'phone', 'facebook', 'reviews']                    t                      f                       NaN  Waterfront Communities-The Island                           NaN  43.64105  -79.37628  Private room in apartment     Private room             2        NaN      1.5 baths       1.0   1.0   \n\n                                              amenities    price  minimum_nights  maximum_nights  minimum_minimum_nights  maximum_minimum_nights  minimum_maximum_nights  maximum_maximum_nights  minimum_nights_avg_ntm  maximum_nights_avg_ntm  calendar_updated has_availability  availability_30  availability_60  availability_90  availability_365 calendar_last_scraped  number_of_reviews  number_of_reviews_ltm  number_of_reviews_l30d first_review last_review  review_scores_rating  review_scores_accuracy  review_scores_cleanliness  review_scores_checkin  review_scores_communication  review_scores_location  review_scores_value license instant_bookable  calculated_host_listings_count  calculated_host_listings_count_entire_homes  calculated_host_listings_count_private_rooms  calculated_host_listings_count_shared_rooms  reviews_per_month  \nid                                                                                                                                                                                                                                                                                                                                                                                                                                                                                                                                                                                                                                                                                                                                                                                                                                                                       \n1419  [\"TV\", \"Washer\", \"Heating\", \"First aid kit\", \"...  $469.00              28             730                      28                      28                     730                     730                    28.0                   730.0               NaN                t                0                0                0                 0            2021-02-09                  7                      0                       0   2015-07-19  2017-12-04                 100.0                    10.0                       10.0                   10.0                         10.0                    10.0                 10.0     NaN                f                               1                                            1                                             0                                            0               0.10  \n8077  [\"Cable TV\", \"TV\", \"Heating\", \"Elevator\", \"Fre...   $96.00             180             365                     180                     180                     365                     365                   180.0                   365.0               NaN                t               30               60               90               365            2021-02-09                169                      0                       0   2009-08-20  2013-08-27                  97.0                    10.0                       10.0                   10.0                         10.0                    10.0                 10.0     NaN                t                               2                                            1                                             1                                            0               1.21  "
     },
     "execution_count": 11,
     "metadata": {},
     "output_type": "execute_result"
    }
   ],
   "source": [
    "df.head(2)"
   ]
  },
  {
   "cell_type": "markdown",
   "metadata": {},
   "source": [
    "# 3 - Gerando a polaridade das descrições e exportando"
   ]
  },
  {
   "cell_type": "code",
   "execution_count": 12,
   "metadata": {},
   "outputs": [
    {
     "name": "stdout",
     "output_type": "stream",
     "text": [
      "(15267, 6635)\n"
     ]
    }
   ],
   "source": [
    "vectorizer = TfidfVectorizer(min_df=5, stop_words='english')\r\n",
    "feature_matrix = vectorizer.fit_transform(df[columnToProcess])\r\n",
    "print(feature_matrix.shape)"
   ]
  },
  {
   "cell_type": "markdown",
   "metadata": {},
   "source": [
    "## Calcular o polarity_score das descrições"
   ]
  },
  {
   "cell_type": "code",
   "execution_count": 13,
   "metadata": {},
   "outputs": [],
   "source": [
    "# Nota que o retorno é no formato {\"neg\" : ..., \"neu\" : ..., \"pos\" : ..., \"compound\" : ...}\r\n",
    "# neu -> resultados neutros (-0.05 a 0.05), neg (<-0.05), pos (> 0.05)\r\n",
    "# Aqui nós estamos interessados no compound, que é a combinação dos anteriores\r\n",
    "vader_polarity_compound = lambda s: (SentimentIntensityAnalyzer().polarity_scores(s))['compound']"
   ]
  },
  {
   "cell_type": "code",
   "execution_count": 14,
   "metadata": {},
   "outputs": [],
   "source": [
    "#Celula mais demorada pra rodar ~91 segundos\r\n",
    "df['description_polarity'] = df[columnToProcess].map(vader_polarity_compound)"
   ]
  },
  {
   "cell_type": "code",
   "execution_count": 15,
   "metadata": {},
   "outputs": [
    {
     "data": {
      "text/html": "<div>\n<style scoped>\n    .dataframe tbody tr th:only-of-type {\n        vertical-align: middle;\n    }\n\n    .dataframe tbody tr th {\n        vertical-align: top;\n    }\n\n    .dataframe thead th {\n        text-align: right;\n    }\n</style>\n<table border=\"1\" class=\"dataframe\">\n  <thead>\n    <tr style=\"text-align: right;\">\n      <th></th>\n      <th>listing_url</th>\n      <th>scrape_id</th>\n      <th>last_scraped</th>\n      <th>name</th>\n      <th>description</th>\n      <th>neighborhood_overview</th>\n      <th>picture_url</th>\n      <th>host_id</th>\n      <th>host_url</th>\n      <th>host_name</th>\n      <th>host_since</th>\n      <th>host_location</th>\n      <th>host_about</th>\n      <th>host_response_time</th>\n      <th>host_response_rate</th>\n      <th>host_acceptance_rate</th>\n      <th>host_is_superhost</th>\n      <th>host_thumbnail_url</th>\n      <th>host_picture_url</th>\n      <th>host_neighbourhood</th>\n      <th>host_listings_count</th>\n      <th>host_total_listings_count</th>\n      <th>host_verifications</th>\n      <th>host_has_profile_pic</th>\n      <th>host_identity_verified</th>\n      <th>neighbourhood</th>\n      <th>neighbourhood_cleansed</th>\n      <th>neighbourhood_group_cleansed</th>\n      <th>latitude</th>\n      <th>longitude</th>\n      <th>property_type</th>\n      <th>room_type</th>\n      <th>accommodates</th>\n      <th>bathrooms</th>\n      <th>bathrooms_text</th>\n      <th>bedrooms</th>\n      <th>...</th>\n      <th>price</th>\n      <th>minimum_nights</th>\n      <th>maximum_nights</th>\n      <th>minimum_minimum_nights</th>\n      <th>maximum_minimum_nights</th>\n      <th>minimum_maximum_nights</th>\n      <th>maximum_maximum_nights</th>\n      <th>minimum_nights_avg_ntm</th>\n      <th>maximum_nights_avg_ntm</th>\n      <th>calendar_updated</th>\n      <th>has_availability</th>\n      <th>availability_30</th>\n      <th>availability_60</th>\n      <th>availability_90</th>\n      <th>availability_365</th>\n      <th>calendar_last_scraped</th>\n      <th>number_of_reviews</th>\n      <th>number_of_reviews_ltm</th>\n      <th>number_of_reviews_l30d</th>\n      <th>first_review</th>\n      <th>last_review</th>\n      <th>review_scores_rating</th>\n      <th>review_scores_accuracy</th>\n      <th>review_scores_cleanliness</th>\n      <th>review_scores_checkin</th>\n      <th>review_scores_communication</th>\n      <th>review_scores_location</th>\n      <th>review_scores_value</th>\n      <th>license</th>\n      <th>instant_bookable</th>\n      <th>calculated_host_listings_count</th>\n      <th>calculated_host_listings_count_entire_homes</th>\n      <th>calculated_host_listings_count_private_rooms</th>\n      <th>calculated_host_listings_count_shared_rooms</th>\n      <th>reviews_per_month</th>\n      <th>description_polarity</th>\n    </tr>\n    <tr>\n      <th>id</th>\n      <th></th>\n      <th></th>\n      <th></th>\n      <th></th>\n      <th></th>\n      <th></th>\n      <th></th>\n      <th></th>\n      <th></th>\n      <th></th>\n      <th></th>\n      <th></th>\n      <th></th>\n      <th></th>\n      <th></th>\n      <th></th>\n      <th></th>\n      <th></th>\n      <th></th>\n      <th></th>\n      <th></th>\n      <th></th>\n      <th></th>\n      <th></th>\n      <th></th>\n      <th></th>\n      <th></th>\n      <th></th>\n      <th></th>\n      <th></th>\n      <th></th>\n      <th></th>\n      <th></th>\n      <th></th>\n      <th></th>\n      <th></th>\n      <th></th>\n      <th></th>\n      <th></th>\n      <th></th>\n      <th></th>\n      <th></th>\n      <th></th>\n      <th></th>\n      <th></th>\n      <th></th>\n      <th></th>\n      <th></th>\n      <th></th>\n      <th></th>\n      <th></th>\n      <th></th>\n      <th></th>\n      <th></th>\n      <th></th>\n      <th></th>\n      <th></th>\n      <th></th>\n      <th></th>\n      <th></th>\n      <th></th>\n      <th></th>\n      <th></th>\n      <th></th>\n      <th></th>\n      <th></th>\n      <th></th>\n      <th></th>\n      <th></th>\n      <th></th>\n      <th></th>\n      <th></th>\n      <th></th>\n    </tr>\n  </thead>\n  <tbody>\n    <tr>\n      <th>1419</th>\n      <td>https://www.airbnb.com/rooms/1419</td>\n      <td>20210208155315</td>\n      <td>2021-02-09</td>\n      <td>Beautiful home in amazing area!</td>\n      <td>this large  family home is located in one of t...</td>\n      <td>The apartment is located in the Ossington stri...</td>\n      <td>https://a0.muscache.com/pictures/76206750/d643...</td>\n      <td>1565</td>\n      <td>https://www.airbnb.com/users/show/1565</td>\n      <td>Alexandra</td>\n      <td>2008-08-08</td>\n      <td>Vancouver, British Columbia, Canada</td>\n      <td>I live in Vancouver, Canada with my husband an...</td>\n      <td>NaN</td>\n      <td>NaN</td>\n      <td>NaN</td>\n      <td>f</td>\n      <td>https://a0.muscache.com/im/pictures/user/7aeea...</td>\n      <td>https://a0.muscache.com/im/pictures/user/7aeea...</td>\n      <td>Commercial Drive</td>\n      <td>1.0</td>\n      <td>1.0</td>\n      <td>['email', 'phone', 'reviews', 'jumio', 'govern...</td>\n      <td>t</td>\n      <td>t</td>\n      <td>Toronto, Ontario, Canada</td>\n      <td>Little Portugal</td>\n      <td>NaN</td>\n      <td>43.64617</td>\n      <td>-79.42451</td>\n      <td>Entire house</td>\n      <td>Entire home/apt</td>\n      <td>10</td>\n      <td>NaN</td>\n      <td>3 baths</td>\n      <td>5.0</td>\n      <td>...</td>\n      <td>$469.00</td>\n      <td>28</td>\n      <td>730</td>\n      <td>28</td>\n      <td>28</td>\n      <td>730</td>\n      <td>730</td>\n      <td>28.0</td>\n      <td>730.0</td>\n      <td>NaN</td>\n      <td>t</td>\n      <td>0</td>\n      <td>0</td>\n      <td>0</td>\n      <td>0</td>\n      <td>2021-02-09</td>\n      <td>7</td>\n      <td>0</td>\n      <td>0</td>\n      <td>2015-07-19</td>\n      <td>2017-12-04</td>\n      <td>100.0</td>\n      <td>10.0</td>\n      <td>10.0</td>\n      <td>10.0</td>\n      <td>10.0</td>\n      <td>10.0</td>\n      <td>10.0</td>\n      <td>NaN</td>\n      <td>f</td>\n      <td>1</td>\n      <td>1</td>\n      <td>0</td>\n      <td>0</td>\n      <td>0.10</td>\n      <td>0.9826</td>\n    </tr>\n    <tr>\n      <th>8077</th>\n      <td>https://www.airbnb.com/rooms/8077</td>\n      <td>20210208155315</td>\n      <td>2021-02-09</td>\n      <td>Downtown Harbourfront Private Room</td>\n      <td>guest room in a luxury condo with access to al...</td>\n      <td>NaN</td>\n      <td>https://a0.muscache.com/pictures/11780344/141c...</td>\n      <td>22795</td>\n      <td>https://www.airbnb.com/users/show/22795</td>\n      <td>Kathie &amp; Larry</td>\n      <td>2009-06-22</td>\n      <td>Toronto, Ontario, Canada</td>\n      <td>My husband and I have been airbnb host for alm...</td>\n      <td>NaN</td>\n      <td>NaN</td>\n      <td>NaN</td>\n      <td>f</td>\n      <td>https://a0.muscache.com/im/pictures/user/9a077...</td>\n      <td>https://a0.muscache.com/im/pictures/user/9a077...</td>\n      <td>Harbourfront</td>\n      <td>2.0</td>\n      <td>2.0</td>\n      <td>['email', 'phone', 'facebook', 'reviews']</td>\n      <td>t</td>\n      <td>f</td>\n      <td>NaN</td>\n      <td>Waterfront Communities-The Island</td>\n      <td>NaN</td>\n      <td>43.64105</td>\n      <td>-79.37628</td>\n      <td>Private room in apartment</td>\n      <td>Private room</td>\n      <td>2</td>\n      <td>NaN</td>\n      <td>1.5 baths</td>\n      <td>1.0</td>\n      <td>...</td>\n      <td>$96.00</td>\n      <td>180</td>\n      <td>365</td>\n      <td>180</td>\n      <td>180</td>\n      <td>365</td>\n      <td>365</td>\n      <td>180.0</td>\n      <td>365.0</td>\n      <td>NaN</td>\n      <td>t</td>\n      <td>30</td>\n      <td>60</td>\n      <td>90</td>\n      <td>365</td>\n      <td>2021-02-09</td>\n      <td>169</td>\n      <td>0</td>\n      <td>0</td>\n      <td>2009-08-20</td>\n      <td>2013-08-27</td>\n      <td>97.0</td>\n      <td>10.0</td>\n      <td>10.0</td>\n      <td>10.0</td>\n      <td>10.0</td>\n      <td>10.0</td>\n      <td>10.0</td>\n      <td>NaN</td>\n      <td>t</td>\n      <td>2</td>\n      <td>1</td>\n      <td>1</td>\n      <td>0</td>\n      <td>1.21</td>\n      <td>0.8442</td>\n    </tr>\n  </tbody>\n</table>\n<p>2 rows × 74 columns</p>\n</div>",
      "text/plain": "                            listing_url       scrape_id last_scraped                                name                                        description                              neighborhood_overview                                        picture_url  host_id                                 host_url       host_name  host_since                        host_location                                         host_about host_response_time host_response_rate host_acceptance_rate host_is_superhost                                 host_thumbnail_url                                   host_picture_url host_neighbourhood  host_listings_count  host_total_listings_count                                 host_verifications host_has_profile_pic host_identity_verified             neighbourhood             neighbourhood_cleansed  neighbourhood_group_cleansed  latitude  longitude              property_type        room_type  accommodates  bathrooms bathrooms_text  bedrooms  ...    price  \\\nid                                                                                                                                                                                                                                                                                                                                                                                                                                                                                                                                                                                                                                                                                                                                                                                                                                                                                                                                                                                                          ...            \n1419  https://www.airbnb.com/rooms/1419  20210208155315   2021-02-09     Beautiful home in amazing area!  this large  family home is located in one of t...  The apartment is located in the Ossington stri...  https://a0.muscache.com/pictures/76206750/d643...     1565   https://www.airbnb.com/users/show/1565       Alexandra  2008-08-08  Vancouver, British Columbia, Canada  I live in Vancouver, Canada with my husband an...                NaN                NaN                  NaN                 f  https://a0.muscache.com/im/pictures/user/7aeea...  https://a0.muscache.com/im/pictures/user/7aeea...   Commercial Drive                  1.0                        1.0  ['email', 'phone', 'reviews', 'jumio', 'govern...                    t                      t  Toronto, Ontario, Canada                    Little Portugal                           NaN  43.64617  -79.42451               Entire house  Entire home/apt            10        NaN        3 baths       5.0  ...  $469.00   \n8077  https://www.airbnb.com/rooms/8077  20210208155315   2021-02-09  Downtown Harbourfront Private Room  guest room in a luxury condo with access to al...                                                NaN  https://a0.muscache.com/pictures/11780344/141c...    22795  https://www.airbnb.com/users/show/22795  Kathie & Larry  2009-06-22             Toronto, Ontario, Canada  My husband and I have been airbnb host for alm...                NaN                NaN                  NaN                 f  https://a0.muscache.com/im/pictures/user/9a077...  https://a0.muscache.com/im/pictures/user/9a077...       Harbourfront                  2.0                        2.0          ['email', 'phone', 'facebook', 'reviews']                    t                      f                       NaN  Waterfront Communities-The Island                           NaN  43.64105  -79.37628  Private room in apartment     Private room             2        NaN      1.5 baths       1.0  ...   $96.00   \n\n     minimum_nights maximum_nights  minimum_minimum_nights  maximum_minimum_nights  minimum_maximum_nights  maximum_maximum_nights  minimum_nights_avg_ntm  maximum_nights_avg_ntm  calendar_updated  has_availability  availability_30 availability_60  availability_90  availability_365  calendar_last_scraped  number_of_reviews number_of_reviews_ltm  number_of_reviews_l30d  first_review  last_review review_scores_rating review_scores_accuracy  review_scores_cleanliness  review_scores_checkin  review_scores_communication  review_scores_location  review_scores_value  license  instant_bookable calculated_host_listings_count calculated_host_listings_count_entire_homes  calculated_host_listings_count_private_rooms  calculated_host_listings_count_shared_rooms  reviews_per_month  description_polarity  \nid                                                                                                                                                                                                                                                                                                                                                                                                                                                                                                                                                                                                                                                                                                                                                                                                                               \n1419             28            730                      28                      28                     730                     730                    28.0                   730.0               NaN                 t                0               0                0                 0             2021-02-09                  7                     0                       0    2015-07-19   2017-12-04                100.0                   10.0                       10.0                   10.0                         10.0                    10.0                 10.0      NaN                 f                              1                                           1                                             0                                            0               0.10                0.9826  \n8077            180            365                     180                     180                     365                     365                   180.0                   365.0               NaN                 t               30              60               90               365             2021-02-09                169                     0                       0    2009-08-20   2013-08-27                 97.0                   10.0                       10.0                   10.0                         10.0                    10.0                 10.0      NaN                 t                              2                                           1                                             1                                            0               1.21                0.8442  \n\n[2 rows x 74 columns]"
     },
     "execution_count": 15,
     "metadata": {},
     "output_type": "execute_result"
    }
   ],
   "source": [
    "df.head(2)"
   ]
  },
  {
   "cell_type": "code",
   "execution_count": 16,
   "metadata": {},
   "outputs": [],
   "source": [
    "## Removendo todas as colunas, exceto pela de nosso interesse (listing id, description, description_polarity)\r\n",
    "df = df[[columnToProcess, 'description_polarity']] \r\n",
    "\r\n",
    "# Ordenando por description_polarity\r\n",
    "df=df.sort_values('description_polarity', ascending=False)\r\n",
    "\r\n",
    "#Salvando no arquivo final\r\n",
    "df.to_csv(processed_files + 'processed_listing_descriptions_complete.csv')"
   ]
  },
  {
   "cell_type": "markdown",
   "metadata": {},
   "source": [
    "# 4 - Análise dos Dados"
   ]
  },
  {
   "cell_type": "code",
   "execution_count": 17,
   "metadata": {},
   "outputs": [],
   "source": [
    "## Ordenando por description_polarity e removendo o texto da description. Exportando\r\n",
    "## apenas listing_id e description_polarity, para reduzir tamanho do arquivo e proce\r\n",
    "## ssar no script principal.\r\n",
    "df[['description_polarity']].to_csv(processed_files + 'processed_listing_descriptions_small.csv')\r\n"
   ]
  },
  {
   "cell_type": "code",
   "execution_count": 18,
   "metadata": {},
   "outputs": [
    {
     "data": {
      "text/html": "<div>\n<style scoped>\n    .dataframe tbody tr th:only-of-type {\n        vertical-align: middle;\n    }\n\n    .dataframe tbody tr th {\n        vertical-align: top;\n    }\n\n    .dataframe thead th {\n        text-align: right;\n    }\n</style>\n<table border=\"1\" class=\"dataframe\">\n  <thead>\n    <tr style=\"text-align: right;\">\n      <th></th>\n      <th>description</th>\n      <th>description_polarity</th>\n    </tr>\n    <tr>\n      <th>id</th>\n      <th></th>\n      <th></th>\n    </tr>\n  </thead>\n  <tbody>\n    <tr>\n      <th>2979246</th>\n      <td>our   bedroom home is in the heart of riverdal...</td>\n      <td>0.9979</td>\n    </tr>\n    <tr>\n      <th>26662976</th>\n      <td>totally private second floor guest suite  supe...</td>\n      <td>0.9977</td>\n    </tr>\n  </tbody>\n</table>\n</div>",
      "text/plain": "                                                description  description_polarity\nid                                                                               \n2979246   our   bedroom home is in the heart of riverdal...                0.9979\n26662976  totally private second floor guest suite  supe...                0.9977"
     },
     "execution_count": 18,
     "metadata": {},
     "output_type": "execute_result"
    }
   ],
   "source": [
    "df.head(2)"
   ]
  },
  {
   "cell_type": "code",
   "execution_count": 19,
   "metadata": {},
   "outputs": [],
   "source": [
    "## OBS: Para bypassar o processamento pesado, uma alternativa é já carregar o arquivo pós-processado, em uma execução anterior\r\n",
    "df_processed = pd.read_csv(processed_files + 'processed_listing_descriptions_complete.csv', index_col=\"id\")\r\n",
    "#df_processed = pd.read_csv(processed_files + 'processed_listing_descriptions_small.csv', index_col=\"id\")"
   ]
  },
  {
   "cell_type": "code",
   "execution_count": 20,
   "metadata": {},
   "outputs": [
    {
     "data": {
      "image/png": "[encoded data removed]",
      "text/plain": "<Figure size 864x432 with 1 Axes>"
     },
     "metadata": {
      "needs_background": "light"
     },
     "output_type": "display_data"
    }
   ],
   "source": [
    "\r\n",
    "plt.figure(figsize=(12,6))\r\n",
    "ax=sns.histplot(df_processed['description_polarity'])\r\n",
    "plt.title('Distribuição da polaridade das descrições, feita pelos anfitriões',fontsize=18)\r\n",
    "plt.xlabel('Polaridade da descrição',fontsize=18)\r\n",
    "plt.ylabel('Quantidade',fontsize=16);\r\n",
    "plt.xticks(fontsize=14);\r\n",
    "plt.yticks(fontsize=14);\r\n",
    "\r\n",
    "ax.figure.savefig(final_figures+\"Imoveis.jpeg\",format='jpeg', dpi=300)"
   ]
  },
  {
   "cell_type": "markdown",
   "metadata": {},
   "source": [
    "## Analisando as duas piores e as duas melhroes avaliações, conforme polaridade"
   ]
  },
  {
   "cell_type": "code",
   "execution_count": 37,
   "metadata": {},
   "outputs": [
    {
     "data": {
      "text/plain": "id\n2979246    Our 2 bedroom home is in the heart of Riverdale, a block from the TTC, 2 beautiful parks, and the vibrant Danforth and Leslieville areas. We are minutes from downtown, but in an amazing residential area with mature trees and great people. Newly decorated and furnished, this is a beautiful and comfortable house in a prime neighbourhood.  A perfect summer oasis and home away from home.<br /><br /><b>The space</b><br />This newly renovated, 100+ year old home has all the comfort and amenities you could want in one of Toronto's most popular and vibrant neighbourhoods.  This is our home, and not a rental property, so all beds, furniture, kitchen ware etc has been chosen with care for style and comfort. The backyard features 2 decks with a small table for 4 perfect for breakfast in the sun, and a larger patio with a table that seats 6/8.  The lovely covered front porch has great seating for end of the afternoon sunshine. The house is ideally suited for a family.<br /><br /><b>Guest access</b\nName: description, dtype: object"
     },
     "execution_count": 37,
     "metadata": {},
     "output_type": "execute_result"
    }
   ],
   "source": [
    "#DEBUG: Buscar por ID individual, antes do processamento.\r\n",
    "#raw_df = pd.read_csv(file_toronto_listings, index_col = 'id')\r\n",
    "#pd.set_option('display.max_colwidth', None)\r\n",
    "#raw_df.filter(like='2979246', axis=0).description"
   ]
  },
  {
   "cell_type": "code",
   "execution_count": 21,
   "metadata": {},
   "outputs": [
    {
     "name": "stdout",
     "output_type": "stream",
     "text": [
      "                                                                                                                                                                                                                                                                                                                                                                                                                                                                                                                                                                                                                                                                                                                                                                                                                                                                                   description  description_polarity\n",
      "id                                                                                                                                                                                                                                                                                                                                                                                                                                                                                                                                                                                                                                                                                                                                                                                                                                                                                                                  \n",
      "38913240  nice   bedroom apartmentcondo located at the heart of toronto downtown     blocks away from dundas square     blocks away from eaton center shopping mall    block away from ttc subwaystation collage station    block away pf main young street  shooping  restaurant   bars    tourist places       block from lowblas and lcbo   arpund the areas you will fing restaurants  bar and   hours convenience stores  very safe area   building counts with     conciergethe spacethis place is modern and unique  excellent location guest accessnice   bedroom apartmentcondo located at the heart of toronto downtown     blocks away from dundas square     blocks away from eaton center shopping mall    block away from ttc subwaystation collage station    block away pf main young street  shooping  restaurant   bars    tourist places       block from lowblas and lcbo                -0.9063\n"
     ]
    }
   ],
   "source": [
    "pd.set_option('display.max_colwidth', None)\r\n",
    "\r\n",
    "# Pior Descrição\r\n",
    "print(df_processed.iloc[[-1]])\r\n",
    "\r\n"
   ]
  },
  {
   "cell_type": "code",
   "execution_count": 22,
   "metadata": {},
   "outputs": [
    {
     "name": "stdout",
     "output_type": "stream",
     "text": [
      "                                                                                                                                                                                                                                                                                                                                                                                                                                                                                                                                                                                                                                                                                                description  description_polarity\n",
      "id                                                                                                                                                                                                                                                                                                                                                                                                                                                                                                                                                                                                                                                                                                                               \n",
      "15465840  recently renovated  walls in bedrooms  all   storey townhouse  with parking  quiet   walking score neighbourhood private rooftop patio with bbq    bedrooms  masterbedroom with queensize matress  second with queen bed and a large queensize airmatress for   location  shopping restaurants bars and proximity   kensigton  chinatown  queenwest  downtownother things to notenow its been   times my place got completely trashed and tons of things got stolen  i dont really feel like going though all the trobles with police and insurance so be aware of it  so from now on no parties  management is not happy about noise complains and i dont want to be kicked out from my own home               -0.8701\n"
     ]
    }
   ],
   "source": [
    "# Segunda pior\r\n",
    "print(df_processed.iloc[[-2]])"
   ]
  },
  {
   "cell_type": "code",
   "execution_count": 23,
   "metadata": {},
   "outputs": [
    {
     "name": "stdout",
     "output_type": "stream",
     "text": [
      "                                                                                                                                                                                                                                                                                                                                                                                                                                                                                                                                                                                                                                                                                                                                                                                                                                                                                                                                                                                            description  description_polarity\n",
      "id                                                                                                                                                                                                                                                                                                                                                                                                                                                                                                                                                                                                                                                                                                                                                                                                                                                                                                                                                                                                                           \n",
      "2979246  our   bedroom home is in the heart of riverdale  a block from the ttc    beautiful parks  and the vibrant danforth and leslieville areas  we are minutes from downtown  but in an amazing residential area with mature trees and great people  newly decorated and furnished  this is a beautiful and comfortable house in a prime neighbourhood   a perfect summer oasis and home away from home the spacethis newly renovated     year old home has all the comfort and amenities you could want in one of toronto s most popular and vibrant neighbourhoods   this is our home  and not a rental property  so all beds  furniture  kitchen ware etc has been chosen with care for style and comfort  the backyard features   decks with a small table for   perfect for breakfast in the sun  and a larger patio with a table that seats       the lovely covered front porch has great seating for end of the afternoon sunshine  the house is ideally suited for a family guest access  b                0.9979\n"
     ]
    }
   ],
   "source": [
    "# Melhor descrição\r\n",
    "print(df_processed.iloc[[0]])\r\n",
    "#print(df_n.loc[df_n.index==26662976].description)"
   ]
  },
  {
   "cell_type": "code",
   "execution_count": 24,
   "metadata": {},
   "outputs": [
    {
     "name": "stdout",
     "output_type": "stream",
     "text": [
      "                                                                                                                                                                                                                                                                                                                                                                                                                                                                                                                                                                                                                                                                                                                                                                                                                                                                                                                                                                                                              description  \\\n",
      "id                                                                                                                                                                                                                                                                                                                                                                                                                                                                                                                                                                                                                                                                                                                                                                                                                                                                                                                                                                                                                          \n",
      "26662976  totally private second floor guest suite  super clean  comfortable  has private entrance and a private bathroom with the bath tab and shower  and is a perfect place to relax and enjoy some peace and quiet on your own or with your significant other  free wifi  free parking  great location  minutes to highways  plazas  grocery  banking  restaurants  easy commute to downtown  tcc and pearson the spacethis super clean beautiful guest suite is on the second floor of the house with the abundance of the natural light  it is comfortable  has private entrance and a private bathroom  and is a perfect place to relax and enjoy some peace and quiet on your own or with your significant other  there is a microwave  small fridge  coffee maker and a kettle  ground coffee  tea bags  sugar and milk  as well as the few bottles of water are provided  the suite also has a   piece private washroom  and a comfortable queen size bed  so you can take a nice relaxing bath and have a good   \n",
      "\n",
      "          description_polarity  \n",
      "id                              \n",
      "26662976                0.9977  \n"
     ]
    }
   ],
   "source": [
    "# Segunda Melhor descrição\r\n",
    "print(df_processed.iloc[[1]])"
   ]
  },
  {
   "cell_type": "markdown",
   "metadata": {},
   "source": [
    "## Gerando uma núvem de palavras com as descrições mais positivas"
   ]
  },
  {
   "cell_type": "code",
   "execution_count": 25,
   "metadata": {},
   "outputs": [
    {
     "data": {
      "image/png": "[encoded data removed]",
      "text/plain": "<Figure size 432x288 with 1 Axes>"
     },
     "metadata": {
      "needs_background": "light"
     },
     "output_type": "display_data"
    }
   ],
   "source": [
    "mask = np.array(Image.open(\"./masks/cn_tower_toronto_mask.png\"))\r\n",
    "positive_text = str(df_processed[lambda x: x['description_polarity'] >= 0.5])\r\n",
    "\r\n",
    "# adding movie script specific stopwords\r\n",
    "stopwords = set(STOPWORDS)\r\n",
    "stopwords.add(\"int\")\r\n",
    "stopwords.add(\"ext\")\r\n",
    "stopwords.add(\"id\")\r\n",
    "stopwords.add(\"due\")\r\n",
    "stopwords.add(\"msg\")\r\n",
    "stopwords.add(\"couldn\")\r\n",
    "stopwords.add(\"bedroom\")\r\n",
    "stopwords.add(\"studio\")\r\n",
    "stopwords.add(\"apartment\")\r\n",
    "stopwords.add(\"condo\")\r\n",
    "stopwords.add(\"den\")\r\n",
    "stopwords.add(\"plus\")\r\n",
    "stopwords.add(\"description_polarity\")\r\n",
    "\r\n",
    "wc = WordCloud(background_color=\"black\",max_words=2000, mask=mask, stopwords=stopwords, color_func=lambda *args, **kwargs: (50, 205, 50), min_word_length=5, min_font_size=10, width=1000, height=1000, max_font_size=200).generate(positive_text)\r\n",
    "wc.to_file(final_figures+'wordcloud_listing_descriptions.png')\r\n",
    "\r\n",
    "# store default colored image\r\n",
    "plt.imshow(wc, interpolation=\"bilinear\")\r\n",
    "plt.axis(\"off\")\r\n",
    "plt.show()\r\n"
   ]
  }
 ],
 "metadata": {
  "kernelspec": {
   "display_name": "Python 3.9.1 64-bit",
   "name": "python391jvsc74a57bd063fd5069d213b44bf678585dea6b12cceca9941eaf7f819626cde1f2670de90d"
  },
  "language_info": {
   "codemirror_mode": {
    "name": "ipython",
    "version": 3
   },
   "file_extension": ".py",
   "mimetype": "text/x-python",
   "name": "python",
   "nbconvert_exporter": "python",
   "pygments_lexer": "ipython3",
   "version": "3.9.1"
  },
  "metadata": {
   "interpreter": {
    "hash": "63fd5069d213b44bf678585dea6b12cceca9941eaf7f819626cde1f2670de90d"
   }
  },
  "orig_nbformat": 2
 },
 "nbformat": 4,
 "nbformat_minor": 2
}