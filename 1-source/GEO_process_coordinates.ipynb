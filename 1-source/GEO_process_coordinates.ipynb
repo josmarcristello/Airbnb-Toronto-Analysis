{
 "cells": [
  {
   "cell_type": "markdown",
   "metadata": {},
   "source": [
    "# 0 - Importando Bibliotecas"
   ]
  },
  {
   "cell_type": "code",
   "execution_count": 7,
   "metadata": {},
   "outputs": [],
   "source": [
    "#!pip3 install geocoder"
   ]
  },
  {
   "cell_type": "code",
   "execution_count": 4,
   "metadata": {},
   "outputs": [],
   "source": [
    "import pandas as pd\r\n",
    "import geocoder\r\n",
    "import glob"
   ]
  },
  {
   "cell_type": "markdown",
   "metadata": {},
   "source": [
    "# 1 - Obtenção dos dados por geolocalização reversa"
   ]
  },
  {
   "cell_type": "markdown",
   "metadata": {},
   "source": [
    "## Definindo o PATH dos arquivos"
   ]
  },
  {
   "cell_type": "code",
   "execution_count": 2,
   "metadata": {},
   "outputs": [],
   "source": [
    "# Arquivos obtidos de fontes externas\r\n",
    "file_toronto_listings = \"../2-data/input/Toronto_2021-02-08/listings.csv\"\r\n",
    "\r\n",
    "# Onde salvar os arquivos com dados gerados, para utilização no script principal\r\n",
    "processed_files = '../2-data/generated/'\r\n"
   ]
  },
  {
   "cell_type": "markdown",
   "metadata": {},
   "source": [
    "## Importante: Utilizar a chave da API do Mapquest (OBS: Max 15k solicitações/mês, no plano gratuito)"
   ]
  },
  {
   "cell_type": "code",
   "execution_count": 9,
   "metadata": {},
   "outputs": [],
   "source": [
    "#https://developer.mapquest.com/user/356679/app-detail/ca8799c9-2cf4-407c-8cd5-f7b92e1ebc47?from=1619302200&to=1619388600&metric=total_response_time&unit=hour#performance\r\n",
    "#geocoderApiKey='oNsxug1crAZaJ2IEyVBC9Gcx1TKw81xm'\r\n",
    "geocoderApiKey='kblRmFMxOIFWmNn7m4NBcjVA4mc9Zxw8'"
   ]
  },
  {
   "cell_type": "code",
   "execution_count": null,
   "metadata": {},
   "outputs": [],
   "source": [
    "# Lendo o banco de dados principal, com os arquivos de toronto\r\n",
    "df = pd.read_csv(file_toronto_listings, index_col = 'id')"
   ]
  },
  {
   "cell_type": "code",
   "execution_count": 10,
   "metadata": {},
   "outputs": [],
   "source": [
    "# Testando a API, confirmando que funciona com exemplo individual\r\n",
    "# location = geocoder.mapquest([df['latitude'].iloc[1], df['longitude'].iloc[x]], method='reverse', key=geocoderApiKey)\r\n",
    "# location.raw"
   ]
  },
  {
   "cell_type": "code",
   "execution_count": 11,
   "metadata": {},
   "outputs": [
    {
     "name": "stdout",
     "output_type": "stream",
     "text": [
      "(832, 3)\n"
     ]
    },
    {
     "data": {
      "text/html": "<div>\n<style scoped>\n    .dataframe tbody tr th:only-of-type {\n        vertical-align: middle;\n    }\n\n    .dataframe tbody tr th {\n        vertical-align: top;\n    }\n\n    .dataframe thead th {\n        text-align: right;\n    }\n</style>\n<table border=\"1\" class=\"dataframe\">\n  <thead>\n    <tr style=\"text-align: right;\">\n      <th></th>\n      <th>City</th>\n      <th>County</th>\n      <th>Neighborhood</th>\n    </tr>\n    <tr>\n      <th>listing_id</th>\n      <th></th>\n      <th></th>\n      <th></th>\n    </tr>\n  </thead>\n  <tbody>\n    <tr>\n      <th>46970103</th>\n      <td>North York</td>\n      <td>Toronto</td>\n      <td></td>\n    </tr>\n    <tr>\n      <th>46970784</th>\n      <td>Toronto</td>\n      <td>Toronto</td>\n      <td></td>\n    </tr>\n    <tr>\n      <th>46970923</th>\n      <td>North York</td>\n      <td>Toronto</td>\n      <td></td>\n    </tr>\n    <tr>\n      <th>46973442</th>\n      <td>East York</td>\n      <td>Toronto</td>\n      <td></td>\n    </tr>\n    <tr>\n      <th>46984433</th>\n      <td>Toronto</td>\n      <td>Toronto</td>\n      <td></td>\n    </tr>\n  </tbody>\n</table>\n</div>",
      "text/plain": "                  City   County Neighborhood\nlisting_id                                  \n46970103    North York  Toronto             \n46970784       Toronto  Toronto             \n46970923    North York  Toronto             \n46973442     East York  Toronto             \n46984433       Toronto  Toronto             "
     },
     "execution_count": 11,
     "metadata": {},
     "output_type": "execute_result"
    }
   ],
   "source": [
    "# Vamos usar as colunas 'latitude' e 'longitude' pra fazer uma busca reversa no Mapquest\r\n",
    "# O Mapquest retorna diversas informações para cada par de lat-lon, mas estamos interess\r\n",
    "# ados apenas na cidade, para esse estudo. \r\n",
    "\r\n",
    "# ~ 5 minutos p/ 1000 queries\r\n",
    "\r\n",
    "# Criando uma df em branco\r\n",
    "location_df = pd.DataFrame()\r\n",
    "\r\n",
    "location = geocoder.mapquest([45.15, -75.14], method='reverse', key=geocoderApiKey)\r\n",
    "\r\n",
    "#for x in range(1000):\r\n",
    "#for x in range(1000, 2000):\r\n",
    "#for x in range(2000, 3000):\r\n",
    "#for x in range(3000, 4000):\r\n",
    "#for x in range(4000, 5000):\r\n",
    "#for x in range(5000, 6000):\r\n",
    "#for x in range(6000, 7000):\r\n",
    "#for x in range(7000, 8000):\r\n",
    "#for x in range(8000, 9000):\r\n",
    "#for x in range(9000, 10000):\r\n",
    "#for x in range(10000, 11000):\r\n",
    "#for x in range(11000, 12000):\r\n",
    "#for x in range(12000, 13000):\r\n",
    "#for x in range(13000, 14000):\r\n",
    "#for x in range(14000, 15000):\r\n",
    "for x in range(15000, 15832):\r\n",
    "    location = geocoder.mapquest([df['latitude'].iloc[x], df['longitude'].iloc[x]], method='reverse', key=geocoderApiKey)\r\n",
    "    \r\n",
    "    location.raw['listing_id'] = str(df.index[x]) ##Adicionando o listing id para podermos buscar depois\r\n",
    "    \r\n",
    "    location.raw.pop('street', None)\r\n",
    "    location.raw.pop('adminArea1Type', None)\r\n",
    "    location.raw.pop('adminArea1', None)\r\n",
    "    location.raw.pop('adminArea3Type', None)\r\n",
    "    location.raw.pop('adminArea3', None)\r\n",
    "    location.raw.pop('postalCode', None)\r\n",
    "    location.raw.pop('geocodeQualityCode', None)\r\n",
    "    location.raw.pop('geocodeQuality', None)\r\n",
    "    location.raw.pop('dragPoint', None)\r\n",
    "    location.raw.pop('sideOfStreet', None)\r\n",
    "    location.raw.pop('linkId', None)\r\n",
    "    location.raw.pop('unknownInput', None)\r\n",
    "    location.raw.pop('type', None)\r\n",
    "    location.raw.pop('latLng', None)\r\n",
    "    location.raw.pop('displayLatLng', None)\r\n",
    "    location.raw.pop('mapUrl', None)\r\n",
    "\r\n",
    "    location.raw['Neighborhood'] = location.raw.pop('adminArea6')\r\n",
    "    location.raw['City'] = location.raw.pop('adminArea5')\r\n",
    "    location.raw['County'] = location.raw.pop('adminArea4')\r\n",
    "\r\n",
    "    location.raw.pop('adminArea6Type', None)\r\n",
    "    location.raw.pop('adminArea5Type', None)\r\n",
    "    location.raw.pop('adminArea4Type', None)\r\n",
    "    \r\n",
    "    location_df = location_df.append(location.raw, ignore_index=True)\r\n",
    "      \r\n",
    "location_df = location_df.set_index('listing_id')\r\n",
    "\r\n",
    "print(location_df.shape)\r\n",
    "location_df.head()"
   ]
  },
  {
   "cell_type": "code",
   "execution_count": 13,
   "metadata": {},
   "outputs": [],
   "source": [
    "#location_df.to_csv(processed_files+'geolocation/geolocation_data1000.csv')\r\n",
    "#location_df.to_csv(processed_files+'geolocation/geolocation_data2000.csv')\r\n",
    "#location_df.to_csv(processed_files+'geolocation/geolocation_data3000.csv')\r\n",
    "#location_df.to_csv(processed_files+'geolocation/geolocation_data4000.csv')\r\n",
    "#location_df.to_csv(processed_files+'geolocation/geolocation_data5000.csv')\r\n",
    "#location_df.to_csv(processed_files+'geolocation/geolocation_data6000.csv')\r\n",
    "#location_df.to_csv(processed_files+'geolocation/geolocation_data7000.csv')\r\n",
    "#location_df.to_csv(processed_files+'geolocation/geolocation_data8000.csv')\r\n",
    "#location_df.to_csv(processed_files+'geolocation/geolocation_data9000.csv')\r\n",
    "#location_df.to_csv(processed_files+'geolocation/geolocation_data10000.csv')\r\n",
    "#location_df.to_csv(processed_files+'geolocation/geolocation_data11000.csv')\r\n",
    "#location_df.to_csv(processed_files+'geolocation/geolocation_data12000.csv')\r\n",
    "#location_df.to_csv(processed_files+'geolocation/geolocation_data13000.csv')\r\n",
    "#location_df.to_csv(processed_files+'geolocation/geolocation_data14000.csv')\r\n",
    "#location_df.to_csv(processed_files+'geolocation/geolocation_data15000.csv')\r\n",
    "#location_df.to_csv(processed_files+'geolocation/geolocation_data15832.csv')\r\n",
    "location_df.to_csv(processed_files+'geolocation/geolocation_data15832.csv')\r\n"
   ]
  },
  {
   "cell_type": "markdown",
   "metadata": {},
   "source": [
    "## Encontrando e unindo todos os .csv de geolocalização"
   ]
  },
  {
   "cell_type": "code",
   "execution_count": 5,
   "metadata": {},
   "outputs": [
    {
     "data": {
      "text/plain": "(15832, 4)"
     },
     "execution_count": 5,
     "metadata": {},
     "output_type": "execute_result"
    }
   ],
   "source": [
    "# Encontrando todos os arquivos csv com dados de geolocalização\r\n",
    "# Juntando todos eles em uma df única, e depois, exportando par\r\n",
    "# a um csv completo\r\n",
    "\r\n",
    "all_files = glob.glob(processed_files+'geolocation' + \"/*.csv\")\r\n",
    "li = []\r\n",
    "for filename in all_files:\r\n",
    "    df = pd.read_csv(filename, index_col=None, header=0)\r\n",
    "    li.append(df)\r\n",
    "\r\n",
    "frame = pd.concat(li, axis=0, ignore_index=True)\r\n",
    "frame.shape"
   ]
  },
  {
   "cell_type": "markdown",
   "metadata": {},
   "source": [
    "## Gerando o arquivo final, com dados de cidade para todas as propriedades de Toronto"
   ]
  },
  {
   "cell_type": "code",
   "execution_count": 6,
   "metadata": {},
   "outputs": [],
   "source": [
    "frame = frame.set_index('listing_id')\r\n",
    "frame.to_csv(processed_files+'geolocation_data.csv')\r\n"
   ]
  }
 ],
 "metadata": {
  "kernelspec": {
   "display_name": "Python 3.9.1 64-bit",
   "name": "python391jvsc74a57bd063fd5069d213b44bf678585dea6b12cceca9941eaf7f819626cde1f2670de90d"
  },
  "language_info": {
   "codemirror_mode": {
    "name": "ipython",
    "version": 3
   },
   "file_extension": ".py",
   "mimetype": "text/x-python",
   "name": "python",
   "nbconvert_exporter": "python",
   "pygments_lexer": "ipython3",
   "version": "3.9.1"
  },
  "metadata": {
   "interpreter": {
    "hash": "63fd5069d213b44bf678585dea6b12cceca9941eaf7f819626cde1f2670de90d"
   }
  },
  "orig_nbformat": 2
 },
 "nbformat": 4,
 "nbformat_minor": 2
}