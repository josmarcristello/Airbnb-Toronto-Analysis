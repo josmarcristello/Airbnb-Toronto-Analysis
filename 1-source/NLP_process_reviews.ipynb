{
 "cells": [
  {
   "cell_type": "markdown",
   "metadata": {},
   "source": [
    "# Introdução\r\n",
    "Este notebook faz parte do trabalho de conclusão do curso (TCC) apresentado para obtenção do título de especialista no curso de Ciência de Dados e Big Data na PUC / Minas Gerais.\r\n"
   ]
  },
  {
   "cell_type": "markdown",
   "metadata": {},
   "source": [
    "## Objetivo\r\n",
    "Este notebook é auxiliar ao **analysis.ipynb**, e tem como objetivo gerar o arquivo:\r\n",
    "\r\n",
    ">processed_listing_reviews_small.csv\r\n",
    "- Dados: Polaridade (NLP) das avaliações no **reviews.csv**, indexadas pelo ID do anúncio."
   ]
  },
  {
   "cell_type": "markdown",
   "metadata": {},
   "source": [
    "## Fontes de Dados\r\n",
    "### Esse script precisa das seguintes fontes de dados:\r\n",
    "\r\n",
    ">reviews.csv\r\n",
    "\r\n",
    "- Dados: Avaliações dos imóveis listados em Toronto, Ontario, na plataforma Airbnb em 08 de Fevereiro de 2021. Indexados pelo ID da avaliação.\r\n",
    "- Fonte: Dados obtidos do site Insideairbnb.com.\r\n"
   ]
  },
  {
   "cell_type": "markdown",
   "metadata": {},
   "source": [
    "# 0 - Importando Bibliotecas"
   ]
  },
  {
   "cell_type": "code",
   "execution_count": 29,
   "metadata": {},
   "outputs": [],
   "source": [
    "#!pip3 install nltk\r\n",
    "#!pip3 install wordcloud"
   ]
  },
  {
   "cell_type": "code",
   "execution_count": 20,
   "metadata": {},
   "outputs": [],
   "source": [
    "import pandas as pd \r\n",
    "import seaborn as sns\r\n",
    "import matplotlib.pyplot as plt\r\n",
    "import numpy as np\r\n",
    "\r\n",
    "import re \r\n",
    "import string\r\n",
    "\r\n",
    "import nltk\r\n",
    "from nltk.sentiment.vader import SentimentIntensityAnalyzer\r\n",
    "from sklearn.feature_extraction.text import TfidfVectorizer\r\n",
    "\r\n",
    "from wordcloud import WordCloud, STOPWORDS\r\n",
    "from PIL import Image\r\n",
    "\r\n",
    "import warnings\r\n",
    "warnings.filterwarnings(\"ignore\")\r\n",
    "\r\n",
    "%matplotlib inline"
   ]
  },
  {
   "cell_type": "code",
   "execution_count": 31,
   "metadata": {},
   "outputs": [],
   "source": [
    "#Setting up nltk with vader lexicon\r\n",
    "nltk.download('vader_lexicon')"
   ]
  },
  {
   "cell_type": "markdown",
   "metadata": {},
   "source": [
    "# 1 - Leitura e Importação dos Dados de Entrada"
   ]
  },
  {
   "cell_type": "markdown",
   "metadata": {},
   "source": [
    "## Definindo o PATH dos arquivos"
   ]
  },
  {
   "cell_type": "code",
   "execution_count": 19,
   "metadata": {},
   "outputs": [],
   "source": [
    "# Arquivos obtidos de fontes externas\r\n",
    "file_toronto_reviews = '../2-data/input/Toronto_2021-02-08/reviews.csv'\r\n",
    "\r\n",
    "# Onde salvar os arquivos com dados gerados, para utilização no script principal\r\n",
    "processed_files = '../2-data/generated/'\r\n",
    "\r\n",
    "# Onde vamos salvar as figuras geradas, para utilização no relatório\r\n",
    "final_figures = '../3-report/figures/'"
   ]
  },
  {
   "cell_type": "code",
   "execution_count": 11,
   "metadata": {},
   "outputs": [],
   "source": [
    "df = pd.read_csv(file_toronto_reviews, index_col = 'id')\r\n",
    "#df = pd.read_csv(file_toronto_reviews)"
   ]
  },
  {
   "cell_type": "code",
   "execution_count": 34,
   "metadata": {},
   "outputs": [
    {
     "data": {
      "text/plain": "(424060, 5)"
     },
     "execution_count": 34,
     "metadata": {},
     "output_type": "execute_result"
    }
   ],
   "source": [
    "df.shape"
   ]
  },
  {
   "cell_type": "code",
   "execution_count": 12,
   "metadata": {},
   "outputs": [],
   "source": [
    "## Basic Configs (.ipynb)\r\n",
    "pd.set_option('display.max_rows', 80)\r\n",
    "pd.set_option('display.max_columns', len(df.columns))\r\n",
    "pd.set_option('display.width', 1000)"
   ]
  },
  {
   "cell_type": "markdown",
   "metadata": {},
   "source": [
    "# 2 - Processamento e limpeza dos dados"
   ]
  },
  {
   "cell_type": "code",
   "execution_count": 13,
   "metadata": {},
   "outputs": [
    {
     "name": "stdout",
     "output_type": "stream",
     "text": [
      "355\n"
     ]
    }
   ],
   "source": [
    "print(df['comments'].isna().sum())"
   ]
  },
  {
   "cell_type": "code",
   "execution_count": 14,
   "metadata": {},
   "outputs": [],
   "source": [
    "# Removendo valores N/A da coluna 'description', visto que esses não poderiam ter seu texto analisado\r\n",
    "\r\n",
    "columnToProcess = 'comments'\r\n",
    "df.dropna(subset = [columnToProcess],how='any',axis=0,inplace=True)"
   ]
  },
  {
   "cell_type": "code",
   "execution_count": 15,
   "metadata": {},
   "outputs": [],
   "source": [
    "# As descrições em varios erros de importação e inconsisências que iriam atrapalhar no processamento.\r\n",
    "# Esses vão ser removidos com esses filtros\r\n",
    "\r\n",
    "importingArtifacts = lambda x: x.replace(\"<br />\",\"\").replace(\"<b>\",\"\").replace(\"</b>\",\"\").replace(\"<b\",\"\")\r\n",
    "alphanumeric = lambda x: re.sub('\\w*\\d\\w*', ' ', x)\r\n",
    "punctuation = lambda x: re.sub('[%s]' % re.escape(string.punctuation), ' ', x.lower())"
   ]
  },
  {
   "cell_type": "code",
   "execution_count": 16,
   "metadata": {},
   "outputs": [],
   "source": [
    "df[columnToProcess] = df[columnToProcess].map(importingArtifacts).map(alphanumeric).map(punctuation)"
   ]
  },
  {
   "cell_type": "code",
   "execution_count": 40,
   "metadata": {},
   "outputs": [
    {
     "data": {
      "text/html": "<div>\n<style scoped>\n    .dataframe tbody tr th:only-of-type {\n        vertical-align: middle;\n    }\n\n    .dataframe tbody tr th {\n        vertical-align: top;\n    }\n\n    .dataframe thead th {\n        text-align: right;\n    }\n</style>\n<table border=\"1\" class=\"dataframe\">\n  <thead>\n    <tr style=\"text-align: right;\">\n      <th></th>\n      <th>listing_id</th>\n      <th>date</th>\n      <th>reviewer_id</th>\n      <th>reviewer_name</th>\n      <th>comments</th>\n    </tr>\n    <tr>\n      <th>id</th>\n      <th></th>\n      <th></th>\n      <th></th>\n      <th></th>\n      <th></th>\n    </tr>\n  </thead>\n  <tbody>\n    <tr>\n      <th>38924112</th>\n      <td>1419</td>\n      <td>2015-07-19</td>\n      <td>11308465</td>\n      <td>Marcela</td>\n      <td>having the opportunity of arriving to alexandr...</td>\n    </tr>\n    <tr>\n      <th>44791978</th>\n      <td>1419</td>\n      <td>2015-08-29</td>\n      <td>9580285</td>\n      <td>Marco</td>\n      <td>we have no enough words to describe how beauty...</td>\n    </tr>\n  </tbody>\n</table>\n</div>",
      "text/plain": "          listing_id        date  reviewer_id reviewer_name                                           comments\nid                                                                                                            \n38924112        1419  2015-07-19     11308465       Marcela  having the opportunity of arriving to alexandr...\n44791978        1419  2015-08-29      9580285         Marco  we have no enough words to describe how beauty..."
     },
     "execution_count": 40,
     "metadata": {},
     "output_type": "execute_result"
    }
   ],
   "source": [
    "df.head(2)"
   ]
  },
  {
   "cell_type": "markdown",
   "metadata": {},
   "source": [
    "# 3 - Gerando a polaridade das avaliações e exportando"
   ]
  },
  {
   "cell_type": "code",
   "execution_count": 41,
   "metadata": {},
   "outputs": [],
   "source": [
    "vectorizer = TfidfVectorizer(min_df=50, stop_words='english')\r\n",
    "feature_matrix = vectorizer.fit_transform(df[columnToProcess])\r\n",
    "print(feature_matrix.shape)"
   ]
  },
  {
   "cell_type": "markdown",
   "metadata": {},
   "source": [
    "## Calcular o polarity_score das avaliações"
   ]
  },
  {
   "cell_type": "code",
   "execution_count": null,
   "metadata": {},
   "outputs": [],
   "source": [
    "# Nota que o retorno é no formato {\"neg\" : ..., \"neu\" : ..., \"pos\" : ..., \"compound\" : ...}\r\n",
    "# neu -> resultados neutros (-0.05 a 0.05), neg (<-0.05), pos (> 0.05)\r\n",
    "# Aqui nós estamos interessados no compound, que é a combinação dos anteriores\r\n",
    "vader_polarity_compound = lambda s: (SentimentIntensityAnalyzer().polarity_scores(s))['compound']"
   ]
  },
  {
   "cell_type": "code",
   "execution_count": 43,
   "metadata": {},
   "outputs": [
    {
     "name": "stdout",
     "output_type": "stream",
     "text": [
      "(423705, 6813)\n"
     ]
    }
   ],
   "source": [
    "#Celula mais demorada pra rodar ~40 minutos\r\n",
    "df['review_polarity'] = df[columnToProcess].map(vader_polarity_compound)"
   ]
  },
  {
   "cell_type": "code",
   "execution_count": 51,
   "metadata": {},
   "outputs": [
    {
     "data": {
      "text/html": "<div>\n<style scoped>\n    .dataframe tbody tr th:only-of-type {\n        vertical-align: middle;\n    }\n\n    .dataframe tbody tr th {\n        vertical-align: top;\n    }\n\n    .dataframe thead th {\n        text-align: right;\n    }\n</style>\n<table border=\"1\" class=\"dataframe\">\n  <thead>\n    <tr style=\"text-align: right;\">\n      <th></th>\n      <th>listing_id</th>\n      <th>date</th>\n      <th>...</th>\n      <th>comments</th>\n      <th>review_polarity</th>\n    </tr>\n    <tr>\n      <th>id</th>\n      <th></th>\n      <th></th>\n      <th></th>\n      <th></th>\n      <th></th>\n    </tr>\n  </thead>\n  <tbody>\n    <tr>\n      <th>247436497</th>\n      <td>21785403</td>\n      <td>2018-03-28</td>\n      <td>...</td>\n      <td>patrick s home was absolutely amazing   we wer...</td>\n      <td>0.9996</td>\n    </tr>\n    <tr>\n      <th>464008318</th>\n      <td>27525463</td>\n      <td>2019-06-04</td>\n      <td>...</td>\n      <td>my husband and i visited toronto on a somewhat...</td>\n      <td>0.9996</td>\n    </tr>\n    <tr>\n      <th>88149472</th>\n      <td>5521420</td>\n      <td>2016-07-23</td>\n      <td>...</td>\n      <td>it is easy to see why sandy has been designate...</td>\n      <td>0.9996</td>\n    </tr>\n    <tr>\n      <th>494036432</th>\n      <td>36478288</td>\n      <td>2019-07-23</td>\n      <td>...</td>\n      <td>if i were to summarize our experience staying ...</td>\n      <td>0.9996</td>\n    </tr>\n    <tr>\n      <th>417831801</th>\n      <td>13417473</td>\n      <td>2019-02-28</td>\n      <td>...</td>\n      <td>i was originally going to stay at lynn s place...</td>\n      <td>0.9995</td>\n    </tr>\n  </tbody>\n</table>\n<p>5 rows × 6 columns</p>\n</div>",
      "text/plain": "           listing_id        date  ...                                           comments review_polarity\nid                                 ...                                                                   \n247436497    21785403  2018-03-28  ...  patrick s home was absolutely amazing   we wer...          0.9996\n464008318    27525463  2019-06-04  ...  my husband and i visited toronto on a somewhat...          0.9996\n88149472      5521420  2016-07-23  ...  it is easy to see why sandy has been designate...          0.9996\n494036432    36478288  2019-07-23  ...  if i were to summarize our experience staying ...          0.9996\n417831801    13417473  2019-02-28  ...  i was originally going to stay at lynn s place...          0.9995\n\n[5 rows x 6 columns]"
     },
     "execution_count": 51,
     "metadata": {},
     "output_type": "execute_result"
    }
   ],
   "source": [
    "df.head(5)"
   ]
  },
  {
   "cell_type": "code",
   "execution_count": 53,
   "metadata": {},
   "outputs": [],
   "source": [
    "## Removendo todas as colunas, exceto pela de nosso interesse (listing id, description, review_polarity)\r\n",
    "#df = df[[columnToProcess,'', 'review_polarity']] \r\n",
    "\r\n",
    "# Ordenando por review_polarity\r\n",
    "df=df.sort_values('review_polarity', ascending=False)\r\n",
    "\r\n",
    "#Salvando no arquivo final\r\n",
    "df.to_csv(processed_files + 'processed_listing_reviews_complete.csv')"
   ]
  },
  {
   "cell_type": "markdown",
   "metadata": {},
   "source": [
    "# 4 - Análise dos Dados"
   ]
  },
  {
   "cell_type": "code",
   "execution_count": 54,
   "metadata": {},
   "outputs": [],
   "source": [
    "## Ordenando por description_polarity e agrupando por listing_id. Isso remove múltiplas \r\n",
    "## linhas, simplifica por ID único e reduz significativamente o tamanho de arquivo.\r\n",
    "\r\n",
    "df.groupby('listing_id')['review_polarity'].mean().sort_values(ascending=False).to_csv(processed_files + 'processed_listing_reviews_small.csv')\r\n",
    "#df[['review_polarity']].to_csv(processed_files + 'processed_listing_reviews_small.csv')\r\n"
   ]
  },
  {
   "cell_type": "code",
   "execution_count": 55,
   "metadata": {},
   "outputs": [
    {
     "data": {
      "text/html": "<div>\n<style scoped>\n    .dataframe tbody tr th:only-of-type {\n        vertical-align: middle;\n    }\n\n    .dataframe tbody tr th {\n        vertical-align: top;\n    }\n\n    .dataframe thead th {\n        text-align: right;\n    }\n</style>\n<table border=\"1\" class=\"dataframe\">\n  <thead>\n    <tr style=\"text-align: right;\">\n      <th></th>\n      <th>listing_id</th>\n      <th>date</th>\n      <th>...</th>\n      <th>comments</th>\n      <th>review_polarity</th>\n    </tr>\n    <tr>\n      <th>id</th>\n      <th></th>\n      <th></th>\n      <th></th>\n      <th></th>\n      <th></th>\n    </tr>\n  </thead>\n  <tbody>\n    <tr>\n      <th>247436497</th>\n      <td>21785403</td>\n      <td>2018-03-28</td>\n      <td>...</td>\n      <td>patrick s home was absolutely amazing   we wer...</td>\n      <td>0.9996</td>\n    </tr>\n    <tr>\n      <th>494036432</th>\n      <td>36478288</td>\n      <td>2019-07-23</td>\n      <td>...</td>\n      <td>if i were to summarize our experience staying ...</td>\n      <td>0.9996</td>\n    </tr>\n  </tbody>\n</table>\n<p>2 rows × 6 columns</p>\n</div>",
      "text/plain": "           listing_id        date  ...                                           comments review_polarity\nid                                 ...                                                                   \n247436497    21785403  2018-03-28  ...  patrick s home was absolutely amazing   we wer...          0.9996\n494036432    36478288  2019-07-23  ...  if i were to summarize our experience staying ...          0.9996\n\n[2 rows x 6 columns]"
     },
     "execution_count": 55,
     "metadata": {},
     "output_type": "execute_result"
    }
   ],
   "source": [
    "df.head(2)"
   ]
  },
  {
   "cell_type": "code",
   "execution_count": 57,
   "metadata": {},
   "outputs": [],
   "source": [
    "## OBS: Para bypassar o processamento pesado, uma alternativa é já carregar o arquivo pós-processado, em uma execução anterior\r\n",
    "df_processed = pd.read_csv(processed_files + 'processed_listing_reviews_complete.csv', index_col=\"id\")\r\n",
    "#df_processed = pd.read_csv(processed_files + 'processed_listing_reviews_small.csv', index_col=\"id\")"
   ]
  },
  {
   "cell_type": "code",
   "execution_count": 59,
   "metadata": {},
   "outputs": [
    {
     "data": {
      "image/png": "[encoded data removed]",
      "text/plain": "<Figure size 864x432 with 1 Axes>"
     },
     "metadata": {
      "needs_background": "light"
     },
     "output_type": "display_data"
    }
   ],
   "source": [
    "plt.figure(figsize=(12,6))\r\n",
    "sns.histplot(df_processed['review_polarity'])\r\n",
    "plt.title('Distribuição da polaridade das avaliações, feita pelos hóspedes',fontsize=18)\r\n",
    "plt.xlabel('Polaridade da avaliação',fontsize=18)\r\n",
    "plt.ylabel('Quantidade',fontsize=16);\r\n",
    "plt.xticks(fontsize=14);\r\n",
    "plt.yticks(fontsize=14);"
   ]
  },
  {
   "cell_type": "markdown",
   "metadata": {},
   "source": [
    "## Analisando as duas piores e as duas melhores avaliações, conforme polaridade"
   ]
  },
  {
   "cell_type": "code",
   "execution_count": 29,
   "metadata": {},
   "outputs": [],
   "source": [
    "#DEBUG: Buscar por ID individual, antes do processamento.\r\n",
    "#raw_df = pd.read_csv(file_toronto_reviews, index_col = 'id')\r\n",
    "#pd.set_option('display.max_colwidth', None)\r\n",
    "#raw_df.filter(like='247436497', axis=0).comments"
   ]
  },
  {
   "cell_type": "code",
   "execution_count": 64,
   "metadata": {},
   "outputs": [
    {
     "name": "stdout",
     "output_type": "stream",
     "text": [
      "           listing_id        date  ...  \\\n",
      "id                                 ...   \n",
      "540026446    34862782  2019-10-02  ...   \n",
      "\n",
      "                                                                                                                                                                                                                                                                                                                                                                                                                                                                                                                                                                                                                                                                                                                                                                                                                                                                                                                                                                                                                                                                                                                                                                                                                                                                                                                                                                                                                                                                                                                                                                                                                                                                                                                                                                                                                                                                                                                                                                                                                                                                                                                                                                                                                                                                                                                                                                                                                                                                                                                                                                                                                                                                                                                                                                                                                                                                                                                                                                                                                                                                                                                                                                                                                                                                                                                                                                                                                                                                                                                                                                                                                                                                                                                                                                                                                                                                                                                                                                                                                                                                                                                                                                                                                                                                                                                                                                                                                                                                                                                                                                                                                                                                                                                                                                                                                                                                                                                                                                                                                                                                                                                                                                                                                                                                                                                                                                                                                                                                                                                                                                                                                                                                                                                                                                                                                                                                                                                                                                                                                                                                                                                                                                                                                                                                                                                                            comments  \\\n",
      "id                                                                                                                                                                                                                                                                                                                                                                                                                                                                                                                                                                                                                                                                                                                                                                                                                                                                                                                                                                                                                                                                                                                                                                                                                                                                                                                                                                                                                                                                                                                                                                                                                                                                                                                                                                                                                                                                                                                                                                                                                                                                                                                                                                                                                                                                                                                                                                                                                                                                                                                                                                                                                                                                                                                                                                                                                                                                                                                                                                                                                                                                                                                                                                                                                                                                                                                                                                                                                                                                                                                                                                                                                                                                                                                                                                                                                                                                                                                                                                                                                                                                                                                                                                                                                                                                                                                                                                                                                                                                                                                                                                                                                                                                                                                                                                                                                                                                                                                                                                                                                                                                                                                                                                                                                                                                                                                                                                                                                                                                                                                                                                                                                                                                                                                                                                                                                                                                                                                                                                                                                                                                                                                                                                                                                                                                                                                                                     \n",
      "540026446  first of all  the location of the apartment is absolutely magnificent and the view to the cn tower is really spectacular  we couldn t get enough of the view within the   days  the communication with ramy was also very easy and uncomplicated  he always responded very quickly  which was really great  under other circumstances this review would have been better  but unfortunately our stay at the beginning was a bit different than expected  we are aware that ramy is absolutely not to blame for all this  but it has an impact on our evaluation  we have received all information regarding check in from ramy in advance  registration with the concierge was really uncomplicated  arrived at the top of the apartment  there was a problem with the lock  so we were not able to open the door as discussed  we then had to wait over an hour for ramy to solve the door problem with his key  unfortunately the door could not be opened even with his key  so we had to wait another   minutes for the locksmith  it took about   hours until we were finally in the apartment  but unfortunately without a working latch  because this was removed by the lock service due to the defect  we only had the remaining lock  which worked separately to the latch  to lock the door  ramy was so kind and refunded us some money because of this  inconvenience   which we found really great  because from our point of view this was not self evident  by the way  the repair could not be done during our   day stay  as a weekend and a rather unfriendly employee of the locksmith company stood in the way  in the same night at the day of arrival there was also a fire alarm  during which     fire engines with blue lights arrived and the building was inspected by the firemen  fortunately  it was just a false alarm  probably not the first of its kind   but the instructions through the building s speakers were very hard to understand and not very informative    for example  it was not said whether the building would be evacuated and whether the elevator could be used  from our point of view  this information matters if you are staying at the   floor  where the apartment is located   generally speaking regarding the apartment  it is very clean and really modern  unfortunately  the bathroom is a bit small and there is no possibility to leave your cosmetics or your toilet bag in the bathroom  as there is not enough storage space  probably because of the height of the floor it was not possible to open the windows  unfortunately  everything ran exclusively over the a c  which took us some time getting used to it  the stone items on the wall are very decorative  but not very high quality  during our stay one of these items detached itself from the wall without our external influence  from our point of view  the kitchen could be equipped a little better  for example  pans and scissors are missing  altogether a few more plates and cutlery would be desirable  because for   plates and the appropriate cutlery it is not really worthwhile to put the dishwasher into operation  a washing machine and a dryer are available in the apartment  but first we had to empty the dryer ourselves in order to use it  because the cleaner did not empty the towels of the previous guests  a small guest book with all information about the apartment and the building would be recommendable  e g   important phone numbers  where is the fitness room located  information about the house rules  information about the use of the technical equipment  information about the garbage disposal etc       vorweg sei gesagt  die lage der wohnung ist absolut grandios und der ausblick auf den cn tower ist wirklich spektakulär  an dem ausblick konnten wir uns auch innerhalb der   tage nicht sattsehen  die kommunikation mit ramy war zudem sehr einfach und unkompliziert  er hat immer sehr schnell auf unsere nachrichten reagiert  was wirklich toll war  unter anderen umständen wäre diese bewertung sicherlich auch besser ausgefallen  aber leider gestaltete sich unser aufenthalt gerade zu beginn etwas anders als erwartet  uns ist bewusst  dass ramy für all das absolut keine schuld trifft  dennoch hat es für uns auswirkungen auf diese bewertung  wir haben im vorfeld alle informationen bzgl  check in von ramy erhalten  die registrierung beim concierge verlief auch wirklich unkompliziert  oben vor dem apartment angekommen  gab es leider ein problem mit dem schloss  sodass es uns nicht möglich war die tür wie besprochen zu öffnen  wir mussten dann über eine stunde auf ramy warten  um das problem mit der tür mit seinem schlüssel in angriff zu nehmen  leider ließ sich die tür auch mit seinem schlüssel nicht öffnen  sodass wir weitere   minuten auf den schlüsseldienst warten mussten  es dauerte somit ca    stunden bis wir endlich in der wohnung waren  nur leider ohne einen funktionierenden schließzylinder  da dieser vom schlüsseldienst aufgrund des defekts entfernt wurde  wir hatten somit nur das noch vorhandene schloss  welches separat zum schließzylinder funktionierte  um die tür zu verriegeln  ramy war so nett und kam uns aufgrund dieser „unannehmlichkeiten“ mit einer finanziellen erstattung entgegen  was wir wirklich toll fanden  weil das aus unserer sicht nicht selbstverständlich war  die reparatur konnte übrigens nicht während unseres   tägigen aufenthalts erledigt werden  da ein wochenende und ein eher unfreundlicher mitarbeiter der schlüsseldienst firma im wege standen  in der gleichen nacht gab es dann zudem einen feueralarm  bei dem     feuerwehrfahrzeuge mit blaulicht anrückten und das gebäude von den feuerwehrmännern geprüft wurde  glücklicherweise handelte es sich nur um einen fehlalarm  wohl nicht der erste dieser art   allerdings waren die anweisungen über die gebäudelautsprecher sehr schlecht zu verstehen und auch nur wenig informativ    es wurde beispielsweise nicht gesagt  ob das gebäude nun evakuiert wird und ob man den aufzug benutzen darf  diese informationen spielen aus unserer sicht im    stockwerk  in dem sich das apartment befindet  schon eine rolle  allgemein zum apartment sei      \n",
      "\n",
      "          review_polarity  \n",
      "id                         \n",
      "540026446         -0.9985  \n",
      "\n",
      "[1 rows x 6 columns]\n"
     ]
    }
   ],
   "source": [
    "pd.set_option('display.max_colwidth', None)\r\n",
    "\r\n",
    "# Segunda pior avaliação\r\n",
    "print(df_processed.iloc[[-2]])\r\n",
    "\r\n"
   ]
  },
  {
   "cell_type": "code",
   "execution_count": 65,
   "metadata": {},
   "outputs": [
    {
     "name": "stdout",
     "output_type": "stream",
     "text": [
      "           listing_id        date  ...  \\\n",
      "id                                 ...   \n",
      "247436497    21785403  2018-03-28  ...   \n",
      "\n",
      "                                                                                                                                                                                                                                                                                                                                                                                                                                                                                                                                                                                                                                                                                                                                                                                                                                                                                                                                                                                                                                                                                                                                                                                                                                                                                                                                                                                                                                                                                                                                                                                                                                                                                                                                                                                                                                                                                                                                                                                                                                                                                                                                                                                                                                                                                                                                                                                                                                                                                                                                                                                                                                                             comments  \\\n",
      "id                                                                                                                                                                                                                                                                                                                                                                                                                                                                                                                                                                                                                                                                                                                                                                                                                                                                                                                                                                                                                                                                                                                                                                                                                                                                                                                                                                                                                                                                                                                                                                                                                                                                                                                                                                                                                                                                                                                                                                                                                                                                                                                                                                                                                                                                                                                                                                                                                                                                                                                                                                                                                                                                      \n",
      "247436497  patrick s home was absolutely amazing   we were so grateful every day of our family vacation that we chose his home to stay in   it is roomy and beautiful and had everything we could possibly need  comfortable beds with nice sheets  lots of towels and a fully stocked kitchen   hundreds of books to look through  and interesting art to admire made downtime fun  it was great to have lots of space for spreading out and relaxing between outings   the giant jacuzzi tub was amazing   it was chilly when we were there  but we still appreciated the amazing view of the city from the fabulous roof top deck     we all had to go out every night to see  and photograph the cn tower  as it is lit up differently every night   we loved the two fireplaces and gas wood stove   the location was wonderful  too   it was very easy to get anywhere we wanted to go   we used the street cars and subways and never drove our car once   kensington market was such a fun neighborhood   we saw many of the classic tourist sights in toronto  but our favorite times were spent strolling around patrick s neighborhood sampling all the great eats and shopping in the fun  quirky stores   chinatown is right around the corner  and we truly enjoyed this area as well   we never once felt unsafe   the square the house sits on is being redone  and i m sure will be beautiful when finished   it looks like a nice play ground is being installed   another plus to this location is how surprisingly quiet it is  for being right in the city  it is a four level single family home  which means no one above or below  patrick was an amazing host and answered all of our questions promptly   he provided lots of information tailored to our interests  which  i must admit  involved food for us most of the time  he has lived in toronto for a long time  and is a wealth of information   we were thrilled that we got to spend some time getting to know him  and will always treasure our time together   i am sure he is always an impeccable host  and would be happy to check in on his guests  or give them all the privacy they wanted   we felt comfortable and at home from the minute we stepped through the front door  to the minute we left   if we return again  i hope we can stay here  possibly in the summer to enjoy the rooftop deck and cute backyard   the stairs in the house would not work well with young children  but patrick explains that very well in his description   we loved it  however  and felt truly lucky that patrick shared his lovely  interesting  one of a kind home with us    \n",
      "\n",
      "          review_polarity  \n",
      "id                         \n",
      "247436497          0.9996  \n",
      "\n",
      "[1 rows x 6 columns]\n"
     ]
    }
   ],
   "source": [
    "# Melhor avaliação\r\n",
    "print(df_processed.iloc[[0]])\r\n",
    "#print(df_n.loc[df_n.index==26662976].description)"
   ]
  },
  {
   "cell_type": "code",
   "execution_count": 66,
   "metadata": {},
   "outputs": [
    {
     "name": "stdout",
     "output_type": "stream",
     "text": [
      "           listing_id        date  ...  \\\n",
      "id                                 ...   \n",
      "494036432    36478288  2019-07-23  ...   \n",
      "\n",
      "                                                                                                                                                                                                                                                                                                                                                                                                                                                                                                                                                                                                                                                                                                                                                                                                                                                                                                                                                                                                                                                                                                                                                                                                                                                                                                                                                                                                                                                                                                                                                                                                                                                                                                                                                                                                                                                                                                                                                                                                                                                                                                                                                                                                                                                                                                                                                                                                                                                                                                                                                                                                                                                                                                                                                                                                                                                                                                                                                                                                                                                                                                                                                                                                                                                                                                                                                                                                                                                                                                                                                                                                                                                                                                                                                                                                                                                                                                                                                                                                                                                                                                                                                                                                                                                                                                                                                                                                                                                                                                                                                                                                                                                                                                                                                                                                                                                                                                                                                                                                                                                                                                                                                                                                                                                                                                                                                                                                                                                                                                                                                                                                                                                                                                                                                                                                                                                                                                                                                                                                                                            comments  \\\n",
      "id                                                                                                                                                                                                                                                                                                                                                                                                                                                                                                                                                                                                                                                                                                                                                                                                                                                                                                                                                                                                                                                                                                                                                                                                                                                                                                                                                                                                                                                                                                                                                                                                                                                                                                                                                                                                                                                                                                                                                                                                                                                                                                                                                                                                                                                                                                                                                                                                                                                                                                                                                                                                                                                                                                                                                                                                                                                                                                                                                                                                                                                                                                                                                                                                                                                                                                                                                                                                                                                                                                                                                                                                                                                                                                                                                                                                                                                                                                                                                                                                                                                                                                                                                                                                                                                                                                                                                                                                                                                                                                                                                                                                                                                                                                                                                                                                                                                                                                                                                                                                                                                                                                                                                                                                                                                                                                                                                                                                                                                                                                                                                                                                                                                                                                                                                                                                                                                                                                                                                                                                                                                     \n",
      "494036432  if i were to summarize our experience staying at adrienne   brandon’s home in toronto in one line  is simply the feeling of staying over at your best friend’s home in town  breaking down our   night stay in a few if i was to summarize our experience staying at adrienne   brandon’s home in toronto in one line  is simply the feeling of staying over at your best friend’s home in town  breaking down our   night stay in a few categories  location    their lovely home was situated a brisk   minute walk away from the ttc subway station  making it a convenient area for us to pop back and forth from our adventures    around the neighborhood  there was a vast selection of tasty restaurants and fast food options  a shopper’s drug mart was right by the stations  with a mcdonald’s across the street directly from it  accommodation    to summarize this category  it is essentially the airbnb jackpot    a fully stocked kitchen  in terms of appliances and electronics  with essentials like oil  salt pepper  etc   everything worked flawlessly  was sad we didn’t get a chance to utilize that crock pot    the bathroom was beautifully tiled and clean  with a very calming spa aura  they kindly provided plenty of bath towels  hand face towels  hairdryer  as well as toiletries  ie  shampoo  conditioner  bodywash     the bedroom was a simple and functional space  the bed and comforters were comfy and clean  we enjoy the closet with plenty of velvet hangers to hang your clothes and situate yourselves right at home    the open living room dining space was a great space for us two  with a plush couch and wall mounted tv for a perfect netflix night in  ps  netflix included      adrienne   brandon kindly provided a laundry day which was convenient as it was located directly out of our   door in the home    when entering the space from the outside  there is a short flight of stairs going down leading into the main door to the basement suite  we didn’t find didn’t be a strenuous struggle one bit getting luggage up and down  communication    i spent a majority of our communication with adrienne  and she was incredibly friendly  helpful  accommodating and speedily replied to any questions or concerns that arose during our stay    brandon was also incredibly friendly when we require assistance with checking in  however  the check in instructions and keypad entrance is something we found to be a great bonus to not have to worry about carrying or losing a set of keys  whether it’s a shortstop or a long haul trip you have planned for toronto  deciding to stay at adrienne   brandon’s will surely be an unforgettable component to your trip  their willingness to overly accommodating and ensure you have an amazing stay is evident from the first point of contact to the day you checkout  an example is when briefly inquiring for a grater for midnight nachos  we were so grateful to have been surprised to come home to some lovely nacho supplies  if that gives a glimpse into the kind of people that you will have the pleasure of staying with  we would surely love to stay in toronto with these two again in the future  categories  location    their lovely home was situated a brisk   minute walk away from the ttc subway station  making it a convenient area for us to pop back and forth from our adventures    around the neighborhood  there was a vast selection of tasty restaurants and fast food options  a shopper’s drug mart was right by the stations  with a mcdonald’s across the street directly from it  accommodation    to summarize this category  it is essentially the airbnb jackpot    a fully stocked kitchen  in terms of appliances and electronics  with essentials like oil  salt pepper  etc   everything worked flawlessly  was sad we didn’t get a chance to utilize that crock pot    the bathroom was beautifully tiled and clean  with a very calming spa aura  they kindly provided plenty of bath towels  hand face towels  hairdryer  as well as toiletries  ie  shampoo  conditioner  bodywash     the bedroom was a simple and functional space  the bed and comforters were comfy and clean  we enjoy the closet with plenty of velvet hangers to hang your clothes and situate yourselves right at home    the open living room dining space was a great space for us two  with a plush couch and wall mounted tv for a perfect netflix night in  ps  netflix included      adrienne   brandon kindly provided a laundry day which was convenient as it was located directly out of our   door in the home    when entering the space from the outside  there is a short flight of stairs going down leading into the main door to the basement suite  we didn’t find didn’t be a strenuous struggle one bit getting luggage up and down  communication    i spent a majority of our communication with adrienne  and she was incredibly friendly  helpful  accommodating and speedily replied to any questions or concerns that arose during our stay    brandon was also incredibly friendly when we require assistance with checking in  however  the check in instructions and keypad entrance is something we found to be a great bonus to not have to worry about carrying or losing a set of keys  whether it’s a shortstop or a long haul trip you have planned for toronto  deciding to stay at adrienne   brandon’s will surely be an unforgettable component to your trip  their willingness to overly accommodating and ensure you have an amazing stay is evident from the first point of contact to the day you checkout  an example is when briefly inquiring for a grater for midnight nachos  we were so grate ful to have been surprised to come home to some lovely nacho supplies  if that gives a glimpse into the kind of people that you will have the pleasure of staying with  we would surely love to stay in toronto with these two      \n",
      "\n",
      "          review_polarity  \n",
      "id                         \n",
      "494036432          0.9996  \n",
      "\n",
      "[1 rows x 6 columns]\n"
     ]
    }
   ],
   "source": [
    "# Segunda Melhor descrição\r\n",
    "print(df_processed.iloc[[1]])"
   ]
  },
  {
   "cell_type": "markdown",
   "metadata": {},
   "source": [
    "## Gerando uma núvem de palavras com as descrições mais positivas"
   ]
  },
  {
   "cell_type": "code",
   "execution_count": 83,
   "metadata": {},
   "outputs": [
    {
     "data": {
      "image/png": "[encoded data removed]",
      "text/plain": "<Figure size 432x288 with 1 Axes>"
     },
     "metadata": {
      "needs_background": "light"
     },
     "output_type": "display_data"
    }
   ],
   "source": [
    "mask = np.array(Image.open(\"./masks/cn_tower_toronto_mask.png\"))\r\n",
    "positive_text = str(df_processed[lambda x: x['review_polarity'] >= 0.5])\r\n",
    "\r\n",
    "# adding movie script specific stopwords\r\n",
    "stopwords = set(STOPWORDS)\r\n",
    "stopwords.add(\"int\")\r\n",
    "stopwords.add(\"ext\")\r\n",
    "stopwords.add(\"id\")\r\n",
    "stopwords.add(\"due\")\r\n",
    "stopwords.add(\"msg\")\r\n",
    "stopwords.add(\"couldn\")\r\n",
    "stopwords.add(\"bedroom\")\r\n",
    "stopwords.add(\"studio\")\r\n",
    "stopwords.add(\"apartment\")\r\n",
    "stopwords.add(\"condo\")\r\n",
    "stopwords.add(\"den\")\r\n",
    "stopwords.add(\"plus\")\r\n",
    "stopwords.add(\"review_polarity\")\r\n",
    "\r\n",
    "wc = WordCloud(background_color=\"black\",max_words=2000, mask=mask, stopwords=stopwords, color_func=lambda *args, **kwargs: (50, 205, 50), min_word_length=5, min_font_size=10, width=1000, height=1000, max_font_size=200).generate(positive_text)\r\n",
    "wc.to_file(final_figures+'wordcloud_review_descriptions.png')\r\n",
    "\r\n",
    "# store default colored image\r\n",
    "plt.imshow(wc, interpolation=\"bilinear\")\r\n",
    "plt.axis(\"off\")\r\n",
    "plt.show()\r\n"
   ]
  }
 ],
 "metadata": {
  "kernelspec": {
   "display_name": "Python 3.9.1 64-bit",
   "name": "python391jvsc74a57bd063fd5069d213b44bf678585dea6b12cceca9941eaf7f819626cde1f2670de90d"
  },
  "language_info": {
   "name": "python",
   "version": ""
  },
  "metadata": {
   "interpreter": {
    "hash": "63fd5069d213b44bf678585dea6b12cceca9941eaf7f819626cde1f2670de90d"
   }
  },
  "orig_nbformat": 2
 },
 "nbformat": 4,
 "nbformat_minor": 2
}