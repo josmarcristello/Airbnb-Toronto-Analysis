{
 "cells": [
  {
   "cell_type": "markdown",
   "metadata": {},
   "source": [
    "# 0 - Importando Bibliotecas"
   ]
  },
  {
   "cell_type": "code",
   "execution_count": 4,
   "metadata": {},
   "outputs": [],
   "source": [
    "#!pip3 install wget"
   ]
  },
  {
   "cell_type": "code",
   "execution_count": 5,
   "metadata": {},
   "outputs": [],
   "source": [
    "# Importando Bibliotecas\r\n",
    "import gzip\r\n",
    "import shutil\r\n",
    "import wget\r\n",
    "import os\r\n",
    "from pathlib import Path"
   ]
  },
  {
   "cell_type": "code",
   "execution_count": 6,
   "metadata": {},
   "outputs": [],
   "source": [
    "# Função para remover descompactar os arquivos em .gzip\r\n",
    "def gunzip_shutil(source_filepath, dest_filepath, block_size=65536):\r\n",
    "    with gzip.open(source_filepath, 'rb') as s_file, \\\r\n",
    "            open(dest_filepath, 'wb') as d_file:\r\n",
    "        shutil.copyfileobj(s_file, d_file, block_size)"
   ]
  },
  {
   "cell_type": "markdown",
   "metadata": {},
   "source": [
    "# 1 - Download dos Arquivos de Interesse"
   ]
  },
  {
   "cell_type": "code",
   "execution_count": 11,
   "metadata": {},
   "outputs": [
    {
     "name": "stdout",
     "output_type": "stream",
     "text": [
      "Skipping download. File ../2-data/input/Toronto_2021-02-08/listings.csv.gz Already exists\n",
      "Downloading: 100% [41830462 / 41830462] bytes\n",
      " Downloads concluidos\n"
     ]
    }
   ],
   "source": [
    "dates = [\"2021-02-08\"]\r\n",
    "files = [\"listings.csv.gz\", \"reviews.csv.gz\"]\r\n",
    "remoteUrlbase = \"http://data.insideairbnb.com/\" + \"canada/on/toronto/\" # Ex: http://data.insideairbnb.com/canada/on/toronto/2021-01-02/data/listings.csv.gz\r\n",
    "localUrlbase = \"../2-data/input/Toronto_\"\r\n",
    "\r\n",
    "# Barra de Progresso (wget)\r\n",
    "def bar_progress(current, total, width=80):\r\n",
    "  progress_message = \"Downloading: %d%% [%d / %d] bytes\" % (current / total * 100, current, total)\r\n",
    "  # Usar stdout.write() em vez de print() \r\n",
    "  sys.stdout.write(\"\\r\" + progress_message)\r\n",
    "  sys.stdout.flush()\r\n",
    "\r\n",
    "for i in range(len(dates)):\r\n",
    "    for j in range(len(files)):\r\n",
    "        remoteUrl = remoteUrlbase + dates[i] + \"/data/\" + files[j]\r\n",
    "        localUrl = localUrlbase + dates[i] + \"/\"\r\n",
    "        localFileUrl = localUrl + files[j]\r\n",
    "        \r\n",
    "        # Só vamos baixar SE os arquivos não existirem localmente\r\n",
    "        if not os.path.exists(localFileUrl):\r\n",
    "            try:\r\n",
    "                # Criando pastas se não existirem\r\n",
    "                Path(localUrl).mkdir(parents=True, exist_ok=True) \r\n",
    "                wget.download(remoteUrl, localUrl, bar=bar_progress)\r\n",
    "            except Exception as ex:\r\n",
    "                print(\"Was not able to download \" + remoteUrl)\r\n",
    "        else:\r\n",
    "            print(\"Skipping download. File \" + localFileUrl + \" Already exists\")\r\n",
    "        if not os.path.exists(localFileUrl[0:-3]):\r\n",
    "            gunzip_shutil(localFileUrl, localFileUrl[0:-3])\r\n",
    "\r\n",
    "print (\"\\n Downloads concluidos\")"
   ]
  }
 ],
 "metadata": {
  "kernelspec": {
   "display_name": "Python 3.9.1 64-bit",
   "name": "python391jvsc74a57bd063fd5069d213b44bf678585dea6b12cceca9941eaf7f819626cde1f2670de90d"
  },
  "language_info": {
   "codemirror_mode": {
    "name": "ipython",
    "version": 3
   },
   "file_extension": ".py",
   "mimetype": "text/x-python",
   "name": "python",
   "nbconvert_exporter": "python",
   "pygments_lexer": "ipython3",
   "version": "3.9.1"
  },
  "metadata": {
   "interpreter": {
    "hash": "63fd5069d213b44bf678585dea6b12cceca9941eaf7f819626cde1f2670de90d"
   }
  },
  "orig_nbformat": 2
 },
 "nbformat": 4,
 "nbformat_minor": 2
}